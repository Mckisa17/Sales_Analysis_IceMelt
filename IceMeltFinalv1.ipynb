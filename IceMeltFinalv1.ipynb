{
 "cells": [
  {
   "cell_type": "code",
   "execution_count": 86,
   "id": "1520eed4",
   "metadata": {
    "execution": {
     "iopub.execute_input": "2023-08-25T16:38:50.620251Z",
     "iopub.status.busy": "2023-08-25T16:38:50.619824Z",
     "iopub.status.idle": "2023-08-25T16:38:53.879514Z",
     "shell.execute_reply": "2023-08-25T16:38:53.878159Z"
    },
    "papermill": {
     "duration": 3.274166,
     "end_time": "2023-08-25T16:38:53.882519",
     "exception": false,
     "start_time": "2023-08-25T16:38:50.608353",
     "status": "completed"
    },
    "tags": []
   },
   "outputs": [],
   "source": [
    "import pandas as pd\n",
    "import matplotlib.pyplot as plt\n",
    "import plotly.express as px"
   ]
  },
  {
   "cell_type": "code",
   "execution_count": 87,
   "id": "89f93a76",
   "metadata": {
    "execution": {
     "iopub.execute_input": "2023-08-25T16:38:53.904697Z",
     "iopub.status.busy": "2023-08-25T16:38:53.904289Z",
     "iopub.status.idle": "2023-08-25T16:38:54.656379Z",
     "shell.execute_reply": "2023-08-25T16:38:54.655069Z"
    },
    "papermill": {
     "duration": 0.766706,
     "end_time": "2023-08-25T16:38:54.659405",
     "exception": false,
     "start_time": "2023-08-25T16:38:53.892699",
     "status": "completed"
    },
    "tags": []
   },
   "outputs": [
    {
     "data": {
      "text/html": [
       "<div>\n",
       "<style scoped>\n",
       "    .dataframe tbody tr th:only-of-type {\n",
       "        vertical-align: middle;\n",
       "    }\n",
       "\n",
       "    .dataframe tbody tr th {\n",
       "        vertical-align: top;\n",
       "    }\n",
       "\n",
       "    .dataframe thead th {\n",
       "        text-align: right;\n",
       "    }\n",
       "</style>\n",
       "<table border=\"1\" class=\"dataframe\">\n",
       "  <thead>\n",
       "    <tr style=\"text-align: right;\">\n",
       "      <th></th>\n",
       "      <th>Date</th>\n",
       "      <th>Customer Account Number</th>\n",
       "      <th>Product</th>\n",
       "      <th>Qty Ordered</th>\n",
       "      <th>Price Each</th>\n",
       "      <th>Cost Each</th>\n",
       "      <th>Payment Type</th>\n",
       "      <th>Is New Customer</th>\n",
       "      <th>Purchase Additional</th>\n",
       "      <th>Total Order Amount</th>\n",
       "      <th>Accepted Promotional Item</th>\n",
       "    </tr>\n",
       "  </thead>\n",
       "  <tbody>\n",
       "    <tr>\n",
       "      <th>0</th>\n",
       "      <td>2022-10-03</td>\n",
       "      <td>CashAccount</td>\n",
       "      <td>Medium Ice Melt</td>\n",
       "      <td>1</td>\n",
       "      <td>22.0</td>\n",
       "      <td>12</td>\n",
       "      <td>Cash</td>\n",
       "      <td>NaN</td>\n",
       "      <td>Yes</td>\n",
       "      <td>57.0</td>\n",
       "      <td>Hat</td>\n",
       "    </tr>\n",
       "    <tr>\n",
       "      <th>1</th>\n",
       "      <td>2022-10-03</td>\n",
       "      <td>1310</td>\n",
       "      <td>Small Ice Melt</td>\n",
       "      <td>9</td>\n",
       "      <td>10.0</td>\n",
       "      <td>6</td>\n",
       "      <td>Credit Card</td>\n",
       "      <td>Existing Customer</td>\n",
       "      <td>No</td>\n",
       "      <td>105.0</td>\n",
       "      <td>No</td>\n",
       "    </tr>\n",
       "    <tr>\n",
       "      <th>2</th>\n",
       "      <td>2022-10-03</td>\n",
       "      <td>CashAccount</td>\n",
       "      <td>Small Ice Melt</td>\n",
       "      <td>1</td>\n",
       "      <td>11.0</td>\n",
       "      <td>6</td>\n",
       "      <td>Cash</td>\n",
       "      <td>NaN</td>\n",
       "      <td>No</td>\n",
       "      <td>95.0</td>\n",
       "      <td>Energy Drink</td>\n",
       "    </tr>\n",
       "    <tr>\n",
       "      <th>3</th>\n",
       "      <td>2022-10-03</td>\n",
       "      <td>CashAccount</td>\n",
       "      <td>Large Ice Melt</td>\n",
       "      <td>3</td>\n",
       "      <td>27.5</td>\n",
       "      <td>15</td>\n",
       "      <td>Cash</td>\n",
       "      <td>NaN</td>\n",
       "      <td>No</td>\n",
       "      <td>95.5</td>\n",
       "      <td>Gloves</td>\n",
       "    </tr>\n",
       "    <tr>\n",
       "      <th>4</th>\n",
       "      <td>2022-10-03</td>\n",
       "      <td>CashAccount</td>\n",
       "      <td>Large Ice Melt</td>\n",
       "      <td>2</td>\n",
       "      <td>27.5</td>\n",
       "      <td>15</td>\n",
       "      <td>Cash</td>\n",
       "      <td>NaN</td>\n",
       "      <td>No</td>\n",
       "      <td>156.0</td>\n",
       "      <td>Hand Warmer</td>\n",
       "    </tr>\n",
       "  </tbody>\n",
       "</table>\n",
       "</div>"
      ],
      "text/plain": [
       "        Date Customer Account Number          Product  Qty Ordered  \\\n",
       "0 2022-10-03             CashAccount  Medium Ice Melt            1   \n",
       "1 2022-10-03                    1310   Small Ice Melt            9   \n",
       "2 2022-10-03             CashAccount   Small Ice Melt            1   \n",
       "3 2022-10-03             CashAccount   Large Ice Melt            3   \n",
       "4 2022-10-03             CashAccount   Large Ice Melt            2   \n",
       "\n",
       "   Price Each  Cost Each Payment Type    Is New Customer Purchase Additional  \\\n",
       "0        22.0         12         Cash                NaN                 Yes   \n",
       "1        10.0          6  Credit Card  Existing Customer                  No   \n",
       "2        11.0          6         Cash                NaN                  No   \n",
       "3        27.5         15         Cash                NaN                  No   \n",
       "4        27.5         15         Cash                NaN                  No   \n",
       "\n",
       "   Total Order Amount Accepted Promotional Item  \n",
       "0                57.0                       Hat  \n",
       "1               105.0                        No  \n",
       "2                95.0              Energy Drink  \n",
       "3                95.5                    Gloves  \n",
       "4               156.0               Hand Warmer  "
      ]
     },
     "execution_count": 87,
     "metadata": {},
     "output_type": "execute_result"
    }
   ],
   "source": [
    "df=pd.read_excel('SU23 BIDA Contest Main File.xlsx')\n",
    "df.head()"
   ]
  },
  {
   "cell_type": "code",
   "execution_count": 88,
   "id": "6c14aa39",
   "metadata": {
    "execution": {
     "iopub.execute_input": "2023-08-25T16:38:54.682182Z",
     "iopub.status.busy": "2023-08-25T16:38:54.681445Z",
     "iopub.status.idle": "2023-08-25T16:38:54.710570Z",
     "shell.execute_reply": "2023-08-25T16:38:54.709163Z"
    },
    "papermill": {
     "duration": 0.043743,
     "end_time": "2023-08-25T16:38:54.713425",
     "exception": false,
     "start_time": "2023-08-25T16:38:54.669682",
     "status": "completed"
    },
    "tags": []
   },
   "outputs": [
    {
     "name": "stderr",
     "output_type": "stream",
     "text": [
      "C:\\Users\\Sam McKinven\\AppData\\Local\\Temp\\ipykernel_9580\\546951886.py:13: SettingWithCopyWarning:\n",
      "\n",
      "\n",
      "A value is trying to be set on a copy of a slice from a DataFrame.\n",
      "Try using .loc[row_indexer,col_indexer] = value instead\n",
      "\n",
      "See the caveats in the documentation: https://pandas.pydata.org/pandas-docs/stable/user_guide/indexing.html#returning-a-view-versus-a-copy\n",
      "\n",
      "C:\\Users\\Sam McKinven\\AppData\\Local\\Temp\\ipykernel_9580\\546951886.py:14: SettingWithCopyWarning:\n",
      "\n",
      "\n",
      "A value is trying to be set on a copy of a slice from a DataFrame.\n",
      "Try using .loc[row_indexer,col_indexer] = value instead\n",
      "\n",
      "See the caveats in the documentation: https://pandas.pydata.org/pandas-docs/stable/user_guide/indexing.html#returning-a-view-versus-a-copy\n",
      "\n"
     ]
    }
   ],
   "source": [
    "# Missing Data in Is New Customer. Need to fill with Unknown category\n",
    "df['Is New Customer'].fillna('Unknown', inplace=True)\n",
    "\n",
    "# 3. Calculate the Total Cost for each order\n",
    "# This metric gives the total expenditure for the business on the products sold in an order.\n",
    "df['Total Cost'] = df['Qty Ordered'] * df['Cost Each']\n",
    "\n",
    "# 4. Calculate the Actual Profit\n",
    "df['Actual Profit'] = df['Total Order Amount'] - df['Total Cost']\n",
    "\n",
    "# Make a returns dataframe \n",
    "returns = df[df['Qty Ordered'] < 0]\n",
    "returns['Total Order Amount'] = returns['Total Order Amount'].abs()\n",
    "returns['Qty Ordered'] = returns['Qty Ordered'].abs()\n",
    "\n",
    "# Make a sales dataframe\n",
    "sales = df[df['Qty Ordered'] > 0]"
   ]
  },
  {
   "cell_type": "markdown",
   "id": "b78c5007",
   "metadata": {
    "papermill": {
     "duration": 0.009757,
     "end_time": "2023-08-25T16:38:54.733208",
     "exception": false,
     "start_time": "2023-08-25T16:38:54.723451",
     "status": "completed"
    },
    "tags": []
   },
   "source": [
    "# Missing Data Handling\n",
    "\n",
    "### Fill Missing 'Is New Customer' Data\n",
    "The code fills missing values in the 'Is New Customer' column with the category 'Unknown'.\n",
    "This ensures that each record in the dataset has a value for the 'Is New Customer' attribute.\n",
    "\n",
    "# Profit and Profit Margin Calculation\n",
    "\n",
    "### 1. Calculate Total Cost\n",
    "'Total Cost' is calculated by multiplying the quantity ordered by the cost per unit.\n",
    "It represents the total cost incurred by the business for the products sold in an order.\n",
    "\n",
    "### 2. Calculate Actual Profit\n",
    "'Actual Profit' is calculated by subtracting the 'Total Cost' from the 'Total Order Amount'.\n",
    "This metric provides insight into the real profitability of each order, considering various factors.\n",
    "\n",
    "# Creating Separate Dataframes\n",
    "\n",
    "### Returns Dataframe\n",
    "A new dataframe 'returns' is created by filtering rows where the 'Qty Ordered' is less than 0.\n",
    "Negative quantities typically indicate returns.\n",
    "The 'Total Order Amount' and 'Qty Ordered' columns are transformed to their absolute values.\n",
    "\n",
    "### Sales Dataframe\n",
    "A new dataframe 'sales' is created by filtering rows where the 'Qty Ordered' is greater than 0.\n",
    "Positive quantities represent sales.\n"
   ]
  },
  {
   "cell_type": "code",
   "execution_count": 89,
   "id": "0e5a4b15",
   "metadata": {
    "execution": {
     "iopub.execute_input": "2023-08-25T16:38:54.756883Z",
     "iopub.status.busy": "2023-08-25T16:38:54.756442Z",
     "iopub.status.idle": "2023-08-25T16:38:54.793719Z",
     "shell.execute_reply": "2023-08-25T16:38:54.792488Z"
    },
    "papermill": {
     "duration": 0.052294,
     "end_time": "2023-08-25T16:38:54.796480",
     "exception": false,
     "start_time": "2023-08-25T16:38:54.744186",
     "status": "completed"
    },
    "tags": []
   },
   "outputs": [
    {
     "data": {
      "text/html": [
       "<div>\n",
       "<style scoped>\n",
       "    .dataframe tbody tr th:only-of-type {\n",
       "        vertical-align: middle;\n",
       "    }\n",
       "\n",
       "    .dataframe tbody tr th {\n",
       "        vertical-align: top;\n",
       "    }\n",
       "\n",
       "    .dataframe thead th {\n",
       "        text-align: right;\n",
       "    }\n",
       "</style>\n",
       "<table border=\"1\" class=\"dataframe\">\n",
       "  <thead>\n",
       "    <tr style=\"text-align: right;\">\n",
       "      <th></th>\n",
       "      <th>Date</th>\n",
       "      <th>Customer Account Number</th>\n",
       "      <th>Product</th>\n",
       "      <th>Qty Ordered</th>\n",
       "      <th>Price Each</th>\n",
       "      <th>Cost Each</th>\n",
       "      <th>Payment Type</th>\n",
       "      <th>Is New Customer</th>\n",
       "      <th>Purchase Additional</th>\n",
       "      <th>Total Order Amount</th>\n",
       "      <th>Accepted Promotional Item</th>\n",
       "      <th>Total Cost</th>\n",
       "      <th>Actual Profit</th>\n",
       "    </tr>\n",
       "  </thead>\n",
       "  <tbody>\n",
       "    <tr>\n",
       "      <th>0</th>\n",
       "      <td>2022-10-03</td>\n",
       "      <td>CashAccount</td>\n",
       "      <td>Medium Ice Melt</td>\n",
       "      <td>1</td>\n",
       "      <td>22.0</td>\n",
       "      <td>12</td>\n",
       "      <td>Cash</td>\n",
       "      <td>Unknown</td>\n",
       "      <td>Yes</td>\n",
       "      <td>57.0</td>\n",
       "      <td>Hat</td>\n",
       "      <td>12</td>\n",
       "      <td>45.0</td>\n",
       "    </tr>\n",
       "    <tr>\n",
       "      <th>1</th>\n",
       "      <td>2022-10-03</td>\n",
       "      <td>1310</td>\n",
       "      <td>Small Ice Melt</td>\n",
       "      <td>9</td>\n",
       "      <td>10.0</td>\n",
       "      <td>6</td>\n",
       "      <td>Credit Card</td>\n",
       "      <td>Existing Customer</td>\n",
       "      <td>No</td>\n",
       "      <td>105.0</td>\n",
       "      <td>No</td>\n",
       "      <td>54</td>\n",
       "      <td>51.0</td>\n",
       "    </tr>\n",
       "    <tr>\n",
       "      <th>2</th>\n",
       "      <td>2022-10-03</td>\n",
       "      <td>CashAccount</td>\n",
       "      <td>Small Ice Melt</td>\n",
       "      <td>1</td>\n",
       "      <td>11.0</td>\n",
       "      <td>6</td>\n",
       "      <td>Cash</td>\n",
       "      <td>Unknown</td>\n",
       "      <td>No</td>\n",
       "      <td>95.0</td>\n",
       "      <td>Energy Drink</td>\n",
       "      <td>6</td>\n",
       "      <td>89.0</td>\n",
       "    </tr>\n",
       "    <tr>\n",
       "      <th>3</th>\n",
       "      <td>2022-10-03</td>\n",
       "      <td>CashAccount</td>\n",
       "      <td>Large Ice Melt</td>\n",
       "      <td>3</td>\n",
       "      <td>27.5</td>\n",
       "      <td>15</td>\n",
       "      <td>Cash</td>\n",
       "      <td>Unknown</td>\n",
       "      <td>No</td>\n",
       "      <td>95.5</td>\n",
       "      <td>Gloves</td>\n",
       "      <td>45</td>\n",
       "      <td>50.5</td>\n",
       "    </tr>\n",
       "    <tr>\n",
       "      <th>4</th>\n",
       "      <td>2022-10-03</td>\n",
       "      <td>CashAccount</td>\n",
       "      <td>Large Ice Melt</td>\n",
       "      <td>2</td>\n",
       "      <td>27.5</td>\n",
       "      <td>15</td>\n",
       "      <td>Cash</td>\n",
       "      <td>Unknown</td>\n",
       "      <td>No</td>\n",
       "      <td>156.0</td>\n",
       "      <td>Hand Warmer</td>\n",
       "      <td>30</td>\n",
       "      <td>126.0</td>\n",
       "    </tr>\n",
       "    <tr>\n",
       "      <th>...</th>\n",
       "      <td>...</td>\n",
       "      <td>...</td>\n",
       "      <td>...</td>\n",
       "      <td>...</td>\n",
       "      <td>...</td>\n",
       "      <td>...</td>\n",
       "      <td>...</td>\n",
       "      <td>...</td>\n",
       "      <td>...</td>\n",
       "      <td>...</td>\n",
       "      <td>...</td>\n",
       "      <td>...</td>\n",
       "      <td>...</td>\n",
       "    </tr>\n",
       "    <tr>\n",
       "      <th>995</th>\n",
       "      <td>2022-11-01</td>\n",
       "      <td>5310</td>\n",
       "      <td>Medium Ice Melt</td>\n",
       "      <td>15</td>\n",
       "      <td>20.0</td>\n",
       "      <td>12</td>\n",
       "      <td>Credit Card</td>\n",
       "      <td>Existing Customer</td>\n",
       "      <td>No</td>\n",
       "      <td>366.0</td>\n",
       "      <td>Hand Warmer</td>\n",
       "      <td>180</td>\n",
       "      <td>186.0</td>\n",
       "    </tr>\n",
       "    <tr>\n",
       "      <th>996</th>\n",
       "      <td>2022-11-01</td>\n",
       "      <td>8418</td>\n",
       "      <td>Medium Ice Melt</td>\n",
       "      <td>13</td>\n",
       "      <td>20.0</td>\n",
       "      <td>12</td>\n",
       "      <td>Credit Card</td>\n",
       "      <td>Existing Customer</td>\n",
       "      <td>No</td>\n",
       "      <td>282.0</td>\n",
       "      <td>No</td>\n",
       "      <td>156</td>\n",
       "      <td>126.0</td>\n",
       "    </tr>\n",
       "    <tr>\n",
       "      <th>997</th>\n",
       "      <td>2022-11-01</td>\n",
       "      <td>9023</td>\n",
       "      <td>Large Ice Melt</td>\n",
       "      <td>14</td>\n",
       "      <td>25.0</td>\n",
       "      <td>15</td>\n",
       "      <td>Credit Card</td>\n",
       "      <td>Existing Customer</td>\n",
       "      <td>No</td>\n",
       "      <td>416.0</td>\n",
       "      <td>No</td>\n",
       "      <td>210</td>\n",
       "      <td>206.0</td>\n",
       "    </tr>\n",
       "    <tr>\n",
       "      <th>998</th>\n",
       "      <td>2022-11-01</td>\n",
       "      <td>9696</td>\n",
       "      <td>Small Ice Melt</td>\n",
       "      <td>14</td>\n",
       "      <td>10.0</td>\n",
       "      <td>6</td>\n",
       "      <td>Credit Card</td>\n",
       "      <td>Existing Customer</td>\n",
       "      <td>No</td>\n",
       "      <td>227.0</td>\n",
       "      <td>No</td>\n",
       "      <td>84</td>\n",
       "      <td>143.0</td>\n",
       "    </tr>\n",
       "    <tr>\n",
       "      <th>999</th>\n",
       "      <td>2022-11-01</td>\n",
       "      <td>CashAccount</td>\n",
       "      <td>Small Ice Melt</td>\n",
       "      <td>3</td>\n",
       "      <td>11.0</td>\n",
       "      <td>6</td>\n",
       "      <td>Cash</td>\n",
       "      <td>Unknown</td>\n",
       "      <td>No</td>\n",
       "      <td>124.0</td>\n",
       "      <td>Energy Drink</td>\n",
       "      <td>18</td>\n",
       "      <td>106.0</td>\n",
       "    </tr>\n",
       "  </tbody>\n",
       "</table>\n",
       "<p>1000 rows × 13 columns</p>\n",
       "</div>"
      ],
      "text/plain": [
       "          Date Customer Account Number          Product  Qty Ordered  \\\n",
       "0   2022-10-03             CashAccount  Medium Ice Melt            1   \n",
       "1   2022-10-03                    1310   Small Ice Melt            9   \n",
       "2   2022-10-03             CashAccount   Small Ice Melt            1   \n",
       "3   2022-10-03             CashAccount   Large Ice Melt            3   \n",
       "4   2022-10-03             CashAccount   Large Ice Melt            2   \n",
       "..         ...                     ...              ...          ...   \n",
       "995 2022-11-01                    5310  Medium Ice Melt           15   \n",
       "996 2022-11-01                    8418  Medium Ice Melt           13   \n",
       "997 2022-11-01                    9023   Large Ice Melt           14   \n",
       "998 2022-11-01                    9696   Small Ice Melt           14   \n",
       "999 2022-11-01             CashAccount   Small Ice Melt            3   \n",
       "\n",
       "     Price Each  Cost Each Payment Type    Is New Customer  \\\n",
       "0          22.0         12         Cash            Unknown   \n",
       "1          10.0          6  Credit Card  Existing Customer   \n",
       "2          11.0          6         Cash            Unknown   \n",
       "3          27.5         15         Cash            Unknown   \n",
       "4          27.5         15         Cash            Unknown   \n",
       "..          ...        ...          ...                ...   \n",
       "995        20.0         12  Credit Card  Existing Customer   \n",
       "996        20.0         12  Credit Card  Existing Customer   \n",
       "997        25.0         15  Credit Card  Existing Customer   \n",
       "998        10.0          6  Credit Card  Existing Customer   \n",
       "999        11.0          6         Cash            Unknown   \n",
       "\n",
       "    Purchase Additional  Total Order Amount Accepted Promotional Item  \\\n",
       "0                   Yes                57.0                       Hat   \n",
       "1                    No               105.0                        No   \n",
       "2                    No                95.0              Energy Drink   \n",
       "3                    No                95.5                    Gloves   \n",
       "4                    No               156.0               Hand Warmer   \n",
       "..                  ...                 ...                       ...   \n",
       "995                  No               366.0               Hand Warmer   \n",
       "996                  No               282.0                        No   \n",
       "997                  No               416.0                        No   \n",
       "998                  No               227.0                        No   \n",
       "999                  No               124.0              Energy Drink   \n",
       "\n",
       "     Total Cost  Actual Profit  \n",
       "0            12           45.0  \n",
       "1            54           51.0  \n",
       "2             6           89.0  \n",
       "3            45           50.5  \n",
       "4            30          126.0  \n",
       "..          ...            ...  \n",
       "995         180          186.0  \n",
       "996         156          126.0  \n",
       "997         210          206.0  \n",
       "998          84          143.0  \n",
       "999          18          106.0  \n",
       "\n",
       "[1000 rows x 13 columns]"
      ]
     },
     "execution_count": 89,
     "metadata": {},
     "output_type": "execute_result"
    }
   ],
   "source": [
    "df"
   ]
  },
  {
   "cell_type": "code",
   "execution_count": 90,
   "id": "c1faf76c",
   "metadata": {
    "execution": {
     "iopub.execute_input": "2023-08-25T16:38:54.910380Z",
     "iopub.status.busy": "2023-08-25T16:38:54.909940Z",
     "iopub.status.idle": "2023-08-25T16:38:57.043225Z",
     "shell.execute_reply": "2023-08-25T16:38:57.042088Z"
    },
    "papermill": {
     "duration": 2.149157,
     "end_time": "2023-08-25T16:38:57.046520",
     "exception": false,
     "start_time": "2023-08-25T16:38:54.897363",
     "status": "completed"
    },
    "tags": []
   },
   "outputs": [
    {
     "data": {
      "application/vnd.plotly.v1+json": {
       "config": {
        "plotlyServerURL": "https://plot.ly"
       },
       "data": [
        {
         "hovertemplate": "<b>%{hovertext}</b><br><br>Product=Large Ice Melt<br>Qty Ordered=%{x}<br>Actual Profit=%{y}<extra></extra>",
         "hovertext": [
          "Large Ice Melt",
          "Large Ice Melt",
          "Large Ice Melt",
          "Large Ice Melt",
          "Large Ice Melt",
          "Large Ice Melt",
          "Large Ice Melt",
          "Large Ice Melt",
          "Large Ice Melt",
          "Large Ice Melt",
          "Large Ice Melt",
          "Large Ice Melt",
          "Large Ice Melt",
          "Large Ice Melt",
          "Large Ice Melt",
          "Large Ice Melt",
          "Large Ice Melt",
          "Large Ice Melt",
          "Large Ice Melt",
          "Large Ice Melt",
          "Large Ice Melt",
          "Large Ice Melt",
          "Large Ice Melt",
          "Large Ice Melt",
          "Large Ice Melt",
          "Large Ice Melt",
          "Large Ice Melt",
          "Large Ice Melt",
          "Large Ice Melt",
          "Large Ice Melt",
          "Large Ice Melt"
         ],
         "legendgroup": "Large Ice Melt",
         "marker": {
          "color": "#636efa",
          "symbol": "circle"
         },
         "mode": "markers",
         "name": "Large Ice Melt",
         "orientation": "v",
         "showlegend": true,
         "type": "scatter",
         "x": [
          1,
          2,
          3,
          5,
          6,
          7,
          8,
          9,
          10,
          11,
          12,
          13,
          14,
          15,
          16,
          17,
          18,
          19,
          20,
          32,
          35,
          43,
          44,
          50,
          53,
          56,
          67,
          70,
          79,
          86,
          119
         ],
         "xaxis": "x",
         "y": [
          1450,
          1452,
          1680.5000000000002,
          1281,
          1067,
          770,
          1150,
          1453,
          1398,
          2317,
          2264,
          1542,
          4182,
          2904,
          2454,
          1747,
          2588,
          2220,
          11135,
          -178,
          -360,
          -237,
          -503,
          -320,
          -382,
          -361,
          -573,
          -582,
          -960,
          -833,
          -1305
         ],
         "yaxis": "y"
        },
        {
         "hovertemplate": "<b>%{hovertext}</b><br><br>Product=Medium Ice Melt<br>Qty Ordered=%{x}<br>Actual Profit=%{y}<extra></extra>",
         "hovertext": [
          "Medium Ice Melt",
          "Medium Ice Melt",
          "Medium Ice Melt",
          "Medium Ice Melt",
          "Medium Ice Melt",
          "Medium Ice Melt",
          "Medium Ice Melt",
          "Medium Ice Melt",
          "Medium Ice Melt",
          "Medium Ice Melt",
          "Medium Ice Melt",
          "Medium Ice Melt",
          "Medium Ice Melt",
          "Medium Ice Melt",
          "Medium Ice Melt",
          "Medium Ice Melt",
          "Medium Ice Melt",
          "Medium Ice Melt",
          "Medium Ice Melt"
         ],
         "legendgroup": "Medium Ice Melt",
         "marker": {
          "color": "#EF553B",
          "symbol": "circle"
         },
         "mode": "markers",
         "name": "Medium Ice Melt",
         "orientation": "v",
         "showlegend": true,
         "type": "scatter",
         "x": [
          1,
          2,
          3,
          5,
          6,
          7,
          8,
          9,
          10,
          11,
          12,
          13,
          14,
          15,
          16,
          17,
          18,
          19,
          20
         ],
         "xaxis": "x",
         "y": [
          1125,
          1272,
          1909,
          970,
          666,
          866,
          1524,
          1078,
          2606,
          2574,
          2378,
          1076,
          2039,
          2285,
          1934,
          2285,
          3275,
          3263,
          6385
         ],
         "yaxis": "y"
        },
        {
         "hovertemplate": "<b>%{hovertext}</b><br><br>Product=Small Ice Melt<br>Qty Ordered=%{x}<br>Actual Profit=%{y}<extra></extra>",
         "hovertext": [
          "Small Ice Melt",
          "Small Ice Melt",
          "Small Ice Melt",
          "Small Ice Melt",
          "Small Ice Melt",
          "Small Ice Melt",
          "Small Ice Melt",
          "Small Ice Melt",
          "Small Ice Melt",
          "Small Ice Melt",
          "Small Ice Melt",
          "Small Ice Melt",
          "Small Ice Melt",
          "Small Ice Melt",
          "Small Ice Melt",
          "Small Ice Melt",
          "Small Ice Melt",
          "Small Ice Melt",
          "Small Ice Melt"
         ],
         "legendgroup": "Small Ice Melt",
         "marker": {
          "color": "#00cc96",
          "symbol": "circle"
         },
         "mode": "markers",
         "name": "Small Ice Melt",
         "orientation": "v",
         "showlegend": true,
         "type": "scatter",
         "x": [
          1,
          2,
          3,
          5,
          6,
          7,
          8,
          9,
          10,
          11,
          12,
          13,
          14,
          15,
          16,
          17,
          18,
          19,
          20
         ],
         "xaxis": "x",
         "y": [
          1561,
          1157,
          1734,
          785,
          638,
          779,
          847,
          1164,
          1984,
          1622,
          3025,
          1852,
          2513,
          1479,
          1257,
          1434,
          1414,
          2419,
          5917
         ],
         "yaxis": "y"
        }
       ],
       "layout": {
        "legend": {
         "title": {
          "text": "Product"
         },
         "tracegroupgap": 0
        },
        "template": {
         "data": {
          "bar": [
           {
            "error_x": {
             "color": "#2a3f5f"
            },
            "error_y": {
             "color": "#2a3f5f"
            },
            "marker": {
             "line": {
              "color": "#E5ECF6",
              "width": 0.5
             },
             "pattern": {
              "fillmode": "overlay",
              "size": 10,
              "solidity": 0.2
             }
            },
            "type": "bar"
           }
          ],
          "barpolar": [
           {
            "marker": {
             "line": {
              "color": "#E5ECF6",
              "width": 0.5
             },
             "pattern": {
              "fillmode": "overlay",
              "size": 10,
              "solidity": 0.2
             }
            },
            "type": "barpolar"
           }
          ],
          "carpet": [
           {
            "aaxis": {
             "endlinecolor": "#2a3f5f",
             "gridcolor": "white",
             "linecolor": "white",
             "minorgridcolor": "white",
             "startlinecolor": "#2a3f5f"
            },
            "baxis": {
             "endlinecolor": "#2a3f5f",
             "gridcolor": "white",
             "linecolor": "white",
             "minorgridcolor": "white",
             "startlinecolor": "#2a3f5f"
            },
            "type": "carpet"
           }
          ],
          "choropleth": [
           {
            "colorbar": {
             "outlinewidth": 0,
             "ticks": ""
            },
            "type": "choropleth"
           }
          ],
          "contour": [
           {
            "colorbar": {
             "outlinewidth": 0,
             "ticks": ""
            },
            "colorscale": [
             [
              0,
              "#0d0887"
             ],
             [
              0.1111111111111111,
              "#46039f"
             ],
             [
              0.2222222222222222,
              "#7201a8"
             ],
             [
              0.3333333333333333,
              "#9c179e"
             ],
             [
              0.4444444444444444,
              "#bd3786"
             ],
             [
              0.5555555555555556,
              "#d8576b"
             ],
             [
              0.6666666666666666,
              "#ed7953"
             ],
             [
              0.7777777777777778,
              "#fb9f3a"
             ],
             [
              0.8888888888888888,
              "#fdca26"
             ],
             [
              1,
              "#f0f921"
             ]
            ],
            "type": "contour"
           }
          ],
          "contourcarpet": [
           {
            "colorbar": {
             "outlinewidth": 0,
             "ticks": ""
            },
            "type": "contourcarpet"
           }
          ],
          "heatmap": [
           {
            "colorbar": {
             "outlinewidth": 0,
             "ticks": ""
            },
            "colorscale": [
             [
              0,
              "#0d0887"
             ],
             [
              0.1111111111111111,
              "#46039f"
             ],
             [
              0.2222222222222222,
              "#7201a8"
             ],
             [
              0.3333333333333333,
              "#9c179e"
             ],
             [
              0.4444444444444444,
              "#bd3786"
             ],
             [
              0.5555555555555556,
              "#d8576b"
             ],
             [
              0.6666666666666666,
              "#ed7953"
             ],
             [
              0.7777777777777778,
              "#fb9f3a"
             ],
             [
              0.8888888888888888,
              "#fdca26"
             ],
             [
              1,
              "#f0f921"
             ]
            ],
            "type": "heatmap"
           }
          ],
          "heatmapgl": [
           {
            "colorbar": {
             "outlinewidth": 0,
             "ticks": ""
            },
            "colorscale": [
             [
              0,
              "#0d0887"
             ],
             [
              0.1111111111111111,
              "#46039f"
             ],
             [
              0.2222222222222222,
              "#7201a8"
             ],
             [
              0.3333333333333333,
              "#9c179e"
             ],
             [
              0.4444444444444444,
              "#bd3786"
             ],
             [
              0.5555555555555556,
              "#d8576b"
             ],
             [
              0.6666666666666666,
              "#ed7953"
             ],
             [
              0.7777777777777778,
              "#fb9f3a"
             ],
             [
              0.8888888888888888,
              "#fdca26"
             ],
             [
              1,
              "#f0f921"
             ]
            ],
            "type": "heatmapgl"
           }
          ],
          "histogram": [
           {
            "marker": {
             "pattern": {
              "fillmode": "overlay",
              "size": 10,
              "solidity": 0.2
             }
            },
            "type": "histogram"
           }
          ],
          "histogram2d": [
           {
            "colorbar": {
             "outlinewidth": 0,
             "ticks": ""
            },
            "colorscale": [
             [
              0,
              "#0d0887"
             ],
             [
              0.1111111111111111,
              "#46039f"
             ],
             [
              0.2222222222222222,
              "#7201a8"
             ],
             [
              0.3333333333333333,
              "#9c179e"
             ],
             [
              0.4444444444444444,
              "#bd3786"
             ],
             [
              0.5555555555555556,
              "#d8576b"
             ],
             [
              0.6666666666666666,
              "#ed7953"
             ],
             [
              0.7777777777777778,
              "#fb9f3a"
             ],
             [
              0.8888888888888888,
              "#fdca26"
             ],
             [
              1,
              "#f0f921"
             ]
            ],
            "type": "histogram2d"
           }
          ],
          "histogram2dcontour": [
           {
            "colorbar": {
             "outlinewidth": 0,
             "ticks": ""
            },
            "colorscale": [
             [
              0,
              "#0d0887"
             ],
             [
              0.1111111111111111,
              "#46039f"
             ],
             [
              0.2222222222222222,
              "#7201a8"
             ],
             [
              0.3333333333333333,
              "#9c179e"
             ],
             [
              0.4444444444444444,
              "#bd3786"
             ],
             [
              0.5555555555555556,
              "#d8576b"
             ],
             [
              0.6666666666666666,
              "#ed7953"
             ],
             [
              0.7777777777777778,
              "#fb9f3a"
             ],
             [
              0.8888888888888888,
              "#fdca26"
             ],
             [
              1,
              "#f0f921"
             ]
            ],
            "type": "histogram2dcontour"
           }
          ],
          "mesh3d": [
           {
            "colorbar": {
             "outlinewidth": 0,
             "ticks": ""
            },
            "type": "mesh3d"
           }
          ],
          "parcoords": [
           {
            "line": {
             "colorbar": {
              "outlinewidth": 0,
              "ticks": ""
             }
            },
            "type": "parcoords"
           }
          ],
          "pie": [
           {
            "automargin": true,
            "type": "pie"
           }
          ],
          "scatter": [
           {
            "marker": {
             "colorbar": {
              "outlinewidth": 0,
              "ticks": ""
             }
            },
            "type": "scatter"
           }
          ],
          "scatter3d": [
           {
            "line": {
             "colorbar": {
              "outlinewidth": 0,
              "ticks": ""
             }
            },
            "marker": {
             "colorbar": {
              "outlinewidth": 0,
              "ticks": ""
             }
            },
            "type": "scatter3d"
           }
          ],
          "scattercarpet": [
           {
            "marker": {
             "colorbar": {
              "outlinewidth": 0,
              "ticks": ""
             }
            },
            "type": "scattercarpet"
           }
          ],
          "scattergeo": [
           {
            "marker": {
             "colorbar": {
              "outlinewidth": 0,
              "ticks": ""
             }
            },
            "type": "scattergeo"
           }
          ],
          "scattergl": [
           {
            "marker": {
             "colorbar": {
              "outlinewidth": 0,
              "ticks": ""
             }
            },
            "type": "scattergl"
           }
          ],
          "scattermapbox": [
           {
            "marker": {
             "colorbar": {
              "outlinewidth": 0,
              "ticks": ""
             }
            },
            "type": "scattermapbox"
           }
          ],
          "scatterpolar": [
           {
            "marker": {
             "colorbar": {
              "outlinewidth": 0,
              "ticks": ""
             }
            },
            "type": "scatterpolar"
           }
          ],
          "scatterpolargl": [
           {
            "marker": {
             "colorbar": {
              "outlinewidth": 0,
              "ticks": ""
             }
            },
            "type": "scatterpolargl"
           }
          ],
          "scatterternary": [
           {
            "marker": {
             "colorbar": {
              "outlinewidth": 0,
              "ticks": ""
             }
            },
            "type": "scatterternary"
           }
          ],
          "surface": [
           {
            "colorbar": {
             "outlinewidth": 0,
             "ticks": ""
            },
            "colorscale": [
             [
              0,
              "#0d0887"
             ],
             [
              0.1111111111111111,
              "#46039f"
             ],
             [
              0.2222222222222222,
              "#7201a8"
             ],
             [
              0.3333333333333333,
              "#9c179e"
             ],
             [
              0.4444444444444444,
              "#bd3786"
             ],
             [
              0.5555555555555556,
              "#d8576b"
             ],
             [
              0.6666666666666666,
              "#ed7953"
             ],
             [
              0.7777777777777778,
              "#fb9f3a"
             ],
             [
              0.8888888888888888,
              "#fdca26"
             ],
             [
              1,
              "#f0f921"
             ]
            ],
            "type": "surface"
           }
          ],
          "table": [
           {
            "cells": {
             "fill": {
              "color": "#EBF0F8"
             },
             "line": {
              "color": "white"
             }
            },
            "header": {
             "fill": {
              "color": "#C8D4E3"
             },
             "line": {
              "color": "white"
             }
            },
            "type": "table"
           }
          ]
         },
         "layout": {
          "annotationdefaults": {
           "arrowcolor": "#2a3f5f",
           "arrowhead": 0,
           "arrowwidth": 1
          },
          "autotypenumbers": "strict",
          "coloraxis": {
           "colorbar": {
            "outlinewidth": 0,
            "ticks": ""
           }
          },
          "colorscale": {
           "diverging": [
            [
             0,
             "#8e0152"
            ],
            [
             0.1,
             "#c51b7d"
            ],
            [
             0.2,
             "#de77ae"
            ],
            [
             0.3,
             "#f1b6da"
            ],
            [
             0.4,
             "#fde0ef"
            ],
            [
             0.5,
             "#f7f7f7"
            ],
            [
             0.6,
             "#e6f5d0"
            ],
            [
             0.7,
             "#b8e186"
            ],
            [
             0.8,
             "#7fbc41"
            ],
            [
             0.9,
             "#4d9221"
            ],
            [
             1,
             "#276419"
            ]
           ],
           "sequential": [
            [
             0,
             "#0d0887"
            ],
            [
             0.1111111111111111,
             "#46039f"
            ],
            [
             0.2222222222222222,
             "#7201a8"
            ],
            [
             0.3333333333333333,
             "#9c179e"
            ],
            [
             0.4444444444444444,
             "#bd3786"
            ],
            [
             0.5555555555555556,
             "#d8576b"
            ],
            [
             0.6666666666666666,
             "#ed7953"
            ],
            [
             0.7777777777777778,
             "#fb9f3a"
            ],
            [
             0.8888888888888888,
             "#fdca26"
            ],
            [
             1,
             "#f0f921"
            ]
           ],
           "sequentialminus": [
            [
             0,
             "#0d0887"
            ],
            [
             0.1111111111111111,
             "#46039f"
            ],
            [
             0.2222222222222222,
             "#7201a8"
            ],
            [
             0.3333333333333333,
             "#9c179e"
            ],
            [
             0.4444444444444444,
             "#bd3786"
            ],
            [
             0.5555555555555556,
             "#d8576b"
            ],
            [
             0.6666666666666666,
             "#ed7953"
            ],
            [
             0.7777777777777778,
             "#fb9f3a"
            ],
            [
             0.8888888888888888,
             "#fdca26"
            ],
            [
             1,
             "#f0f921"
            ]
           ]
          },
          "colorway": [
           "#636efa",
           "#EF553B",
           "#00cc96",
           "#ab63fa",
           "#FFA15A",
           "#19d3f3",
           "#FF6692",
           "#B6E880",
           "#FF97FF",
           "#FECB52"
          ],
          "font": {
           "color": "#2a3f5f"
          },
          "geo": {
           "bgcolor": "white",
           "lakecolor": "white",
           "landcolor": "#E5ECF6",
           "showlakes": true,
           "showland": true,
           "subunitcolor": "white"
          },
          "hoverlabel": {
           "align": "left"
          },
          "hovermode": "closest",
          "mapbox": {
           "style": "light"
          },
          "paper_bgcolor": "white",
          "plot_bgcolor": "#E5ECF6",
          "polar": {
           "angularaxis": {
            "gridcolor": "white",
            "linecolor": "white",
            "ticks": ""
           },
           "bgcolor": "#E5ECF6",
           "radialaxis": {
            "gridcolor": "white",
            "linecolor": "white",
            "ticks": ""
           }
          },
          "scene": {
           "xaxis": {
            "backgroundcolor": "#E5ECF6",
            "gridcolor": "white",
            "gridwidth": 2,
            "linecolor": "white",
            "showbackground": true,
            "ticks": "",
            "zerolinecolor": "white"
           },
           "yaxis": {
            "backgroundcolor": "#E5ECF6",
            "gridcolor": "white",
            "gridwidth": 2,
            "linecolor": "white",
            "showbackground": true,
            "ticks": "",
            "zerolinecolor": "white"
           },
           "zaxis": {
            "backgroundcolor": "#E5ECF6",
            "gridcolor": "white",
            "gridwidth": 2,
            "linecolor": "white",
            "showbackground": true,
            "ticks": "",
            "zerolinecolor": "white"
           }
          },
          "shapedefaults": {
           "line": {
            "color": "#2a3f5f"
           }
          },
          "ternary": {
           "aaxis": {
            "gridcolor": "white",
            "linecolor": "white",
            "ticks": ""
           },
           "baxis": {
            "gridcolor": "white",
            "linecolor": "white",
            "ticks": ""
           },
           "bgcolor": "#E5ECF6",
           "caxis": {
            "gridcolor": "white",
            "linecolor": "white",
            "ticks": ""
           }
          },
          "title": {
           "x": 0.05
          },
          "xaxis": {
           "automargin": true,
           "gridcolor": "white",
           "linecolor": "white",
           "ticks": "",
           "title": {
            "standoff": 15
           },
           "zerolinecolor": "white",
           "zerolinewidth": 2
          },
          "yaxis": {
           "automargin": true,
           "gridcolor": "white",
           "linecolor": "white",
           "ticks": "",
           "title": {
            "standoff": 15
           },
           "zerolinecolor": "white",
           "zerolinewidth": 2
          }
         }
        },
        "title": {
         "text": "Total Profit vs. Quantity for Each Product"
        },
        "xaxis": {
         "anchor": "y",
         "domain": [
          0,
          1
         ],
         "title": {
          "text": "Qty Ordered"
         }
        },
        "yaxis": {
         "anchor": "x",
         "domain": [
          0,
          1
         ],
         "title": {
          "text": "Actual Profit"
         }
        }
       }
      }
     },
     "metadata": {},
     "output_type": "display_data"
    },
    {
     "name": "stdout",
     "output_type": "stream",
     "text": [
      "Net Loss for orders greater than 20 items: $6594.00\n"
     ]
    }
   ],
   "source": [
    "# Aggregate total profit by product and quantity\n",
    "profit_by_product_quantity = sales.groupby(['Product', 'Qty Ordered'])['Actual Profit'].sum().reset_index()\n",
    "\n",
    "fig = px.scatter(profit_by_product_quantity, x='Qty Ordered', y='Actual Profit', color='Product', \n",
    "                 title='Total Profit vs. Quantity for Each Product', hover_name='Product')\n",
    "fig.show()\n",
    "\n",
    "# Filter the dataframe for orders greater than 20\n",
    "large_orders = sales[sales['Qty Ordered'] > 20]\n",
    "\n",
    "# Sum the 'Actual Profit' for these orders\n",
    "net_profit_for_large_orders = large_orders['Actual Profit'].sum()\n",
    "print(f\"Net Loss for orders greater than 20 items: ${-net_profit_for_large_orders:.2f}\")"
   ]
  },
  {
   "cell_type": "markdown",
   "id": "799317fc",
   "metadata": {
    "papermill": {
     "duration": 0.011363,
     "end_time": "2023-08-25T16:38:57.069620",
     "exception": false,
     "start_time": "2023-08-25T16:38:57.058257",
     "status": "completed"
    },
    "tags": []
   },
   "source": [
    "# Total Profit vs. Quantity for Each Product\n",
    "\n",
    "In the graph titled 'Total Profit vs. Quantity for Each Product', we investigate how profitability trends with the quantity of products ordered. Here's what we discovered:\n",
    "\n",
    "## Key Insights:\n",
    "1. **Profitability Trend**: For smaller order quantities (less than 20 items), profit trends are relatively consistent across all product types. This indicates that standard pricing models for small quantities are likely profitable.\n",
    "  \n",
    "2. **Large Order Profitability**: However, for orders larger than 20 items, there is a noticeable dip in profitability for some products. This suggests that bulk orders or volume discounts might be eroding the profit margins. If these bulk orders aren't bringing additional advantages (like long-term customer retention or significant reductions in per-unit costs), then these discounting strategies may need re-evaluation.\n",
    "\n",
    "3. **Potential Actions**:\n",
    "   - **Review Discount Strategies**: Consider reviewing and potentially revising discount structures for bulk orders. While volume discounts can incentivize larger purchases, it's essential to ensure they don't negatively impact overall profitability.\n",
    "   - **Segmented Pricing**: One strategy could be to offer tiered pricing. This can cater to both small buyers and bulk purchasers, ensuring profitability across all segments.\n",
    "   - **Customer Negotiation**: If specific customers consistently place large orders and receive significant discounts, consider renegotiating terms. Offering value in other ways might allow for less aggressive price discounts.\n",
    "\n",
    "In summary, while volume discounts can be a valuable tool to incentivize large purchases, it's vital to ensure they are balanced and don't compromise the overall profit goals of the business.\n"
   ]
  },
  {
   "cell_type": "code",
   "execution_count": 91,
   "id": "2bc4be88",
   "metadata": {
    "execution": {
     "iopub.execute_input": "2023-08-25T16:38:57.095199Z",
     "iopub.status.busy": "2023-08-25T16:38:57.094495Z",
     "iopub.status.idle": "2023-08-25T16:38:57.961095Z",
     "shell.execute_reply": "2023-08-25T16:38:57.959703Z"
    },
    "papermill": {
     "duration": 0.883099,
     "end_time": "2023-08-25T16:38:57.964383",
     "exception": false,
     "start_time": "2023-08-25T16:38:57.081284",
     "status": "completed"
    },
    "tags": []
   },
   "outputs": [
    {
     "data": {
      "image/png": "[encoded data removed]",
      "text/plain": [
       "<Figure size 720x432 with 1 Axes>"
      ]
     },
     "metadata": {
      "needs_background": "light"
     },
     "output_type": "display_data"
    },
    {
     "data": {
      "image/png": "[encoded data removed]",
      "text/plain": [
       "<Figure size 720x432 with 1 Axes>"
      ]
     },
     "metadata": {
      "needs_background": "light"
     },
     "output_type": "display_data"
    }
   ],
   "source": [
    "large_orders_df = sales[sales['Qty Ordered'] > 20]\n",
    "\n",
    "# Payment Type\n",
    "payment_types_counts = large_orders_df['Payment Type'].value_counts()\n",
    "\n",
    "plt.figure(figsize=(10, 6))\n",
    "payment_types_counts.plot(kind='bar', color='blue')\n",
    "plt.title(\"Distribution of Payment Types for Large Orders\")\n",
    "plt.xlabel(\"Payment Type\")\n",
    "plt.ylabel(\"Number of Orders\")\n",
    "plt.xticks(rotation=45)\n",
    "plt.tight_layout()\n",
    "plt.show()\n",
    "\n",
    "# Is New Customer\n",
    "new_customer_counts = large_orders_df['Is New Customer'].value_counts()\n",
    "\n",
    "plt.figure(figsize=(10, 6))\n",
    "new_customer_counts.plot(kind='bar', color='green')\n",
    "plt.title(\"Distribution of 'Is New Customer' for Large Orders\")\n",
    "plt.xlabel(\"Is New Customer\")\n",
    "plt.ylabel(\"Number of Orders\")\n",
    "plt.xticks(rotation=0)\n",
    "plt.tight_layout()\n",
    "plt.show()"
   ]
  },
  {
   "cell_type": "markdown",
   "id": "df2f410e",
   "metadata": {
    "papermill": {
     "duration": 0.012288,
     "end_time": "2023-08-25T16:38:57.989276",
     "exception": false,
     "start_time": "2023-08-25T16:38:57.976988",
     "status": "completed"
    },
    "tags": []
   },
   "source": [
    "# Analysis of Large Orders\n",
    "\n",
    "The code focuses on analyzing the 'large orders' from the sales data. Here, 'large orders' refer to those orders where the quantity ordered exceeds 20.\n",
    "\n",
    "## Conclusion\n",
    "\n",
    "The analysis reveals that most large orders (quantities above 20) come from existing customers who predominantly use the 'account' mode of payment. Unfortunately, these large orders are causing the business to incur losses, primarily because of the discounts applied based on quantity ordered and the associated payment method. It's evident that the current pricing strategy, especially for bulk orders and the 'account' payment mode, is not optimized for profitability. A revision of the pricing and discount strategy is imperative to ensure that these large orders contribute positively to the business's bottom line.\n",
    "\n",
    "## Solution\n",
    "\n",
    "My recommended solution is to implement a tiered discount pricing strategy that has a cap. At a certian point of discounts the cost to create N many products will outweigh the revenue of the sale. A limit will help mitigate this issue. \n"
   ]
  },
  {
   "cell_type": "code",
   "execution_count": 92,
   "id": "3395badf",
   "metadata": {
    "execution": {
     "iopub.execute_input": "2023-08-25T16:38:58.016595Z",
     "iopub.status.busy": "2023-08-25T16:38:58.016188Z",
     "iopub.status.idle": "2023-08-25T16:38:58.025202Z",
     "shell.execute_reply": "2023-08-25T16:38:58.024040Z"
    },
    "papermill": {
     "duration": 0.025776,
     "end_time": "2023-08-25T16:38:58.027798",
     "exception": false,
     "start_time": "2023-08-25T16:38:58.002022",
     "status": "completed"
    },
    "tags": []
   },
   "outputs": [],
   "source": [
    "# Remove the orders that are not receiving too large of discounts.\n",
    "df = df[df['Qty Ordered'] <= 20]\n",
    "sales= sales[sales['Qty Ordered'] <= 20]"
   ]
  },
  {
   "cell_type": "code",
   "execution_count": 93,
   "id": "c804327d",
   "metadata": {
    "execution": {
     "iopub.execute_input": "2023-08-25T16:38:58.055451Z",
     "iopub.status.busy": "2023-08-25T16:38:58.055045Z",
     "iopub.status.idle": "2023-08-25T16:38:58.152644Z",
     "shell.execute_reply": "2023-08-25T16:38:58.151277Z"
    },
    "papermill": {
     "duration": 0.114999,
     "end_time": "2023-08-25T16:38:58.155420",
     "exception": false,
     "start_time": "2023-08-25T16:38:58.040421",
     "status": "completed"
    },
    "tags": []
   },
   "outputs": [
    {
     "data": {
      "application/vnd.plotly.v1+json": {
       "config": {
        "plotlyServerURL": "https://plot.ly"
       },
       "data": [
        {
         "customdata": [
          [
           57
          ],
          [
           42
          ],
          [
           267
          ],
          [
           348
          ],
          [
           85
          ],
          [
           407
          ],
          [
           342
          ],
          [
           422
          ],
          [
           82
          ],
          [
           447
          ],
          [
           339
          ],
          [
           43
          ],
          [
           252
          ],
          [
           57
          ],
          [
           345
          ],
          [
           260
          ],
          [
           389
          ],
          [
           276
          ],
          [
           140
          ],
          [
           54
          ],
          [
           68
          ],
          [
           438
          ],
          [
           -283
          ],
          [
           158
          ],
          [
           124
          ],
          [
           300
          ],
          [
           -275
          ],
          [
           424
          ],
          [
           -290
          ],
          [
           224
          ],
          [
           210
          ],
          [
           324
          ],
          [
           174
          ],
          [
           390
          ],
          [
           411
          ],
          [
           427
          ],
          [
           273
          ],
          [
           375
          ],
          [
           398
          ],
          [
           299
          ],
          [
           225
          ],
          [
           291
          ],
          [
           17
          ],
          [
           389
          ],
          [
           200
          ],
          [
           268
          ],
          [
           317
          ],
          [
           30
          ],
          [
           180
          ],
          [
           88
          ],
          [
           347
          ],
          [
           286
          ],
          [
           315
          ],
          [
           201
          ],
          [
           -277
          ],
          [
           135
          ],
          [
           430
          ],
          [
           239
          ],
          [
           115
          ],
          [
           375
          ],
          [
           113
          ],
          [
           385
          ],
          [
           439
          ],
          [
           238
          ],
          [
           165
          ],
          [
           346
          ],
          [
           414
          ],
          [
           346
          ],
          [
           119
          ],
          [
           78
          ],
          [
           386
          ],
          [
           387
          ],
          [
           294
          ],
          [
           353
          ],
          [
           383
          ],
          [
           347
          ],
          [
           178
          ],
          [
           329
          ],
          [
           145
          ],
          [
           205
          ],
          [
           135
          ],
          [
           261
          ],
          [
           314
          ],
          [
           95
          ],
          [
           293
          ],
          [
           368
          ],
          [
           305
          ],
          [
           341
          ],
          [
           296
          ],
          [
           -43
          ],
          [
           -192
          ],
          [
           148
          ],
          [
           234
          ],
          [
           220
          ],
          [
           392
          ],
          [
           -259
          ],
          [
           298
          ],
          [
           363
          ],
          [
           201
          ],
          [
           289
          ],
          [
           449
          ],
          [
           327
          ],
          [
           359
          ],
          [
           119
          ],
          [
           454
          ],
          [
           105
          ],
          [
           -256
          ],
          [
           359
          ],
          [
           466
          ],
          [
           247
          ],
          [
           283
          ],
          [
           361
          ],
          [
           274
          ],
          [
           21
          ],
          [
           371
          ],
          [
           344
          ],
          [
           105
          ],
          [
           218
          ],
          [
           397
          ],
          [
           362
          ],
          [
           379
          ],
          [
           137
          ],
          [
           108
          ],
          [
           395
          ],
          [
           167
          ],
          [
           440
          ],
          [
           327
          ],
          [
           62
          ],
          [
           469
          ],
          [
           277
          ],
          [
           348
          ],
          [
           -12
          ],
          [
           391
          ],
          [
           229
          ],
          [
           369
          ],
          [
           165
          ],
          [
           387
          ],
          [
           256
          ],
          [
           231
          ],
          [
           77
          ],
          [
           71
          ],
          [
           327
          ],
          [
           160
          ],
          [
           361
          ],
          [
           386
          ],
          [
           509
          ],
          [
           67
          ],
          [
           95
          ],
          [
           394
          ],
          [
           454
          ],
          [
           246
          ],
          [
           165
          ],
          [
           364
          ],
          [
           455
          ],
          [
           343
          ],
          [
           264
          ],
          [
           332
          ],
          [
           311
          ],
          [
           292
          ],
          [
           294
          ],
          [
           431
          ],
          [
           252
          ],
          [
           105
          ],
          [
           369
          ],
          [
           143
          ],
          [
           92
          ],
          [
           414
          ],
          [
           247
          ],
          [
           166
          ],
          [
           108
          ],
          [
           96
          ],
          [
           344
          ],
          [
           373
          ],
          [
           455
          ],
          [
           98
          ],
          [
           287
          ],
          [
           271
          ],
          [
           420
          ],
          [
           252
          ],
          [
           405
          ],
          [
           366
          ],
          [
           453
          ],
          [
           330
          ],
          [
           281
          ],
          [
           361
          ],
          [
           329
          ],
          [
           109
          ],
          [
           191
          ],
          [
           270
          ],
          [
           332
          ],
          [
           330
          ],
          [
           329
          ],
          [
           -350
          ],
          [
           -297
          ],
          [
           129
          ],
          [
           33
          ],
          [
           304
          ],
          [
           72
          ],
          [
           205
          ],
          [
           390
          ],
          [
           440
          ],
          [
           353
          ],
          [
           251
          ],
          [
           118
          ],
          [
           356
          ],
          [
           147
          ],
          [
           138
          ],
          [
           330
          ],
          [
           461
          ],
          [
           355
          ],
          [
           326
          ],
          [
           269
          ],
          [
           240
          ],
          [
           309
          ],
          [
           158
          ],
          [
           351
          ],
          [
           278
          ],
          [
           352
          ],
          [
           262
          ],
          [
           229
          ],
          [
           217
          ],
          [
           174
          ],
          [
           301
          ],
          [
           355
          ],
          [
           124
          ],
          [
           347
          ],
          [
           180
          ],
          [
           268
          ],
          [
           199
          ],
          [
           27
          ],
          [
           258
          ],
          [
           378
          ],
          [
           35
          ],
          [
           254
          ],
          [
           194
          ],
          [
           284
          ],
          [
           505
          ],
          [
           352
          ],
          [
           112
          ],
          [
           92
          ],
          [
           323
          ],
          [
           347
          ],
          [
           351
          ],
          [
           229
          ],
          [
           89
          ],
          [
           355
          ],
          [
           109
          ],
          [
           353
          ],
          [
           358
          ],
          [
           272
          ],
          [
           394
          ],
          [
           418
          ],
          [
           180
          ],
          [
           124
          ],
          [
           263
          ],
          [
           56
          ],
          [
           328
          ],
          [
           248
          ],
          [
           109
          ],
          [
           356
          ],
          [
           266
          ],
          [
           99
          ],
          [
           391
          ],
          [
           74
          ],
          [
           278
          ],
          [
           385
          ],
          [
           311
          ],
          [
           190
          ],
          [
           366
          ],
          [
           29
          ],
          [
           200
          ],
          [
           358
          ],
          [
           280
          ],
          [
           339
          ],
          [
           401
          ],
          [
           229
          ],
          [
           124
          ],
          [
           176
          ],
          [
           362
          ],
          [
           380
          ],
          [
           312
          ],
          [
           325
          ],
          [
           84
          ],
          [
           207
          ],
          [
           352
          ],
          [
           294
          ],
          [
           241
          ],
          [
           372
          ],
          [
           -349
          ],
          [
           170
          ],
          [
           409
          ],
          [
           229
          ],
          [
           240
          ],
          [
           465
          ],
          [
           122
          ],
          [
           131
          ],
          [
           355
          ],
          [
           244
          ],
          [
           185
          ],
          [
           402
          ],
          [
           285
          ],
          [
           180
          ],
          [
           -178
          ],
          [
           400
          ],
          [
           462
          ],
          [
           358
          ],
          [
           362
          ],
          [
           187
          ],
          [
           424
          ],
          [
           343
          ],
          [
           449
          ],
          [
           327
          ],
          [
           366
          ],
          [
           282
          ]
         ],
         "hovertemplate": "<b>%{hovertext}</b><br><br>Product=Medium Ice Melt<br>Qty Ordered=%{x}<br>Price Each=%{y}<br>Total Order Amount=%{customdata[0]}<extra></extra>",
         "hovertext": [
          "Medium Ice Melt",
          "Medium Ice Melt",
          "Medium Ice Melt",
          "Medium Ice Melt",
          "Medium Ice Melt",
          "Medium Ice Melt",
          "Medium Ice Melt",
          "Medium Ice Melt",
          "Medium Ice Melt",
          "Medium Ice Melt",
          "Medium Ice Melt",
          "Medium Ice Melt",
          "Medium Ice Melt",
          "Medium Ice Melt",
          "Medium Ice Melt",
          "Medium Ice Melt",
          "Medium Ice Melt",
          "Medium Ice Melt",
          "Medium Ice Melt",
          "Medium Ice Melt",
          "Medium Ice Melt",
          "Medium Ice Melt",
          "Medium Ice Melt",
          "Medium Ice Melt",
          "Medium Ice Melt",
          "Medium Ice Melt",
          "Medium Ice Melt",
          "Medium Ice Melt",
          "Medium Ice Melt",
          "Medium Ice Melt",
          "Medium Ice Melt",
          "Medium Ice Melt",
          "Medium Ice Melt",
          "Medium Ice Melt",
          "Medium Ice Melt",
          "Medium Ice Melt",
          "Medium Ice Melt",
          "Medium Ice Melt",
          "Medium Ice Melt",
          "Medium Ice Melt",
          "Medium Ice Melt",
          "Medium Ice Melt",
          "Medium Ice Melt",
          "Medium Ice Melt",
          "Medium Ice Melt",
          "Medium Ice Melt",
          "Medium Ice Melt",
          "Medium Ice Melt",
          "Medium Ice Melt",
          "Medium Ice Melt",
          "Medium Ice Melt",
          "Medium Ice Melt",
          "Medium Ice Melt",
          "Medium Ice Melt",
          "Medium Ice Melt",
          "Medium Ice Melt",
          "Medium Ice Melt",
          "Medium Ice Melt",
          "Medium Ice Melt",
          "Medium Ice Melt",
          "Medium Ice Melt",
          "Medium Ice Melt",
          "Medium Ice Melt",
          "Medium Ice Melt",
          "Medium Ice Melt",
          "Medium Ice Melt",
          "Medium Ice Melt",
          "Medium Ice Melt",
          "Medium Ice Melt",
          "Medium Ice Melt",
          "Medium Ice Melt",
          "Medium Ice Melt",
          "Medium Ice Melt",
          "Medium Ice Melt",
          "Medium Ice Melt",
          "Medium Ice Melt",
          "Medium Ice Melt",
          "Medium Ice Melt",
          "Medium Ice Melt",
          "Medium Ice Melt",
          "Medium Ice Melt",
          "Medium Ice Melt",
          "Medium Ice Melt",
          "Medium Ice Melt",
          "Medium Ice Melt",
          "Medium Ice Melt",
          "Medium Ice Melt",
          "Medium Ice Melt",
          "Medium Ice Melt",
          "Medium Ice Melt",
          "Medium Ice Melt",
          "Medium Ice Melt",
          "Medium Ice Melt",
          "Medium Ice Melt",
          "Medium Ice Melt",
          "Medium Ice Melt",
          "Medium Ice Melt",
          "Medium Ice Melt",
          "Medium Ice Melt",
          "Medium Ice Melt",
          "Medium Ice Melt",
          "Medium Ice Melt",
          "Medium Ice Melt",
          "Medium Ice Melt",
          "Medium Ice Melt",
          "Medium Ice Melt",
          "Medium Ice Melt",
          "Medium Ice Melt",
          "Medium Ice Melt",
          "Medium Ice Melt",
          "Medium Ice Melt",
          "Medium Ice Melt",
          "Medium Ice Melt",
          "Medium Ice Melt",
          "Medium Ice Melt",
          "Medium Ice Melt",
          "Medium Ice Melt",
          "Medium Ice Melt",
          "Medium Ice Melt",
          "Medium Ice Melt",
          "Medium Ice Melt",
          "Medium Ice Melt",
          "Medium Ice Melt",
          "Medium Ice Melt",
          "Medium Ice Melt",
          "Medium Ice Melt",
          "Medium Ice Melt",
          "Medium Ice Melt",
          "Medium Ice Melt",
          "Medium Ice Melt",
          "Medium Ice Melt",
          "Medium Ice Melt",
          "Medium Ice Melt",
          "Medium Ice Melt",
          "Medium Ice Melt",
          "Medium Ice Melt",
          "Medium Ice Melt",
          "Medium Ice Melt",
          "Medium Ice Melt",
          "Medium Ice Melt",
          "Medium Ice Melt",
          "Medium Ice Melt",
          "Medium Ice Melt",
          "Medium Ice Melt",
          "Medium Ice Melt",
          "Medium Ice Melt",
          "Medium Ice Melt",
          "Medium Ice Melt",
          "Medium Ice Melt",
          "Medium Ice Melt",
          "Medium Ice Melt",
          "Medium Ice Melt",
          "Medium Ice Melt",
          "Medium Ice Melt",
          "Medium Ice Melt",
          "Medium Ice Melt",
          "Medium Ice Melt",
          "Medium Ice Melt",
          "Medium Ice Melt",
          "Medium Ice Melt",
          "Medium Ice Melt",
          "Medium Ice Melt",
          "Medium Ice Melt",
          "Medium Ice Melt",
          "Medium Ice Melt",
          "Medium Ice Melt",
          "Medium Ice Melt",
          "Medium Ice Melt",
          "Medium Ice Melt",
          "Medium Ice Melt",
          "Medium Ice Melt",
          "Medium Ice Melt",
          "Medium Ice Melt",
          "Medium Ice Melt",
          "Medium Ice Melt",
          "Medium Ice Melt",
          "Medium Ice Melt",
          "Medium Ice Melt",
          "Medium Ice Melt",
          "Medium Ice Melt",
          "Medium Ice Melt",
          "Medium Ice Melt",
          "Medium Ice Melt",
          "Medium Ice Melt",
          "Medium Ice Melt",
          "Medium Ice Melt",
          "Medium Ice Melt",
          "Medium Ice Melt",
          "Medium Ice Melt",
          "Medium Ice Melt",
          "Medium Ice Melt",
          "Medium Ice Melt",
          "Medium Ice Melt",
          "Medium Ice Melt",
          "Medium Ice Melt",
          "Medium Ice Melt",
          "Medium Ice Melt",
          "Medium Ice Melt",
          "Medium Ice Melt",
          "Medium Ice Melt",
          "Medium Ice Melt",
          "Medium Ice Melt",
          "Medium Ice Melt",
          "Medium Ice Melt",
          "Medium Ice Melt",
          "Medium Ice Melt",
          "Medium Ice Melt",
          "Medium Ice Melt",
          "Medium Ice Melt",
          "Medium Ice Melt",
          "Medium Ice Melt",
          "Medium Ice Melt",
          "Medium Ice Melt",
          "Medium Ice Melt",
          "Medium Ice Melt",
          "Medium Ice Melt",
          "Medium Ice Melt",
          "Medium Ice Melt",
          "Medium Ice Melt",
          "Medium Ice Melt",
          "Medium Ice Melt",
          "Medium Ice Melt",
          "Medium Ice Melt",
          "Medium Ice Melt",
          "Medium Ice Melt",
          "Medium Ice Melt",
          "Medium Ice Melt",
          "Medium Ice Melt",
          "Medium Ice Melt",
          "Medium Ice Melt",
          "Medium Ice Melt",
          "Medium Ice Melt",
          "Medium Ice Melt",
          "Medium Ice Melt",
          "Medium Ice Melt",
          "Medium Ice Melt",
          "Medium Ice Melt",
          "Medium Ice Melt",
          "Medium Ice Melt",
          "Medium Ice Melt",
          "Medium Ice Melt",
          "Medium Ice Melt",
          "Medium Ice Melt",
          "Medium Ice Melt",
          "Medium Ice Melt",
          "Medium Ice Melt",
          "Medium Ice Melt",
          "Medium Ice Melt",
          "Medium Ice Melt",
          "Medium Ice Melt",
          "Medium Ice Melt",
          "Medium Ice Melt",
          "Medium Ice Melt",
          "Medium Ice Melt",
          "Medium Ice Melt",
          "Medium Ice Melt",
          "Medium Ice Melt",
          "Medium Ice Melt",
          "Medium Ice Melt",
          "Medium Ice Melt",
          "Medium Ice Melt",
          "Medium Ice Melt",
          "Medium Ice Melt",
          "Medium Ice Melt",
          "Medium Ice Melt",
          "Medium Ice Melt",
          "Medium Ice Melt",
          "Medium Ice Melt",
          "Medium Ice Melt",
          "Medium Ice Melt",
          "Medium Ice Melt",
          "Medium Ice Melt",
          "Medium Ice Melt",
          "Medium Ice Melt",
          "Medium Ice Melt",
          "Medium Ice Melt",
          "Medium Ice Melt",
          "Medium Ice Melt",
          "Medium Ice Melt",
          "Medium Ice Melt",
          "Medium Ice Melt",
          "Medium Ice Melt",
          "Medium Ice Melt",
          "Medium Ice Melt",
          "Medium Ice Melt",
          "Medium Ice Melt",
          "Medium Ice Melt",
          "Medium Ice Melt",
          "Medium Ice Melt",
          "Medium Ice Melt",
          "Medium Ice Melt",
          "Medium Ice Melt",
          "Medium Ice Melt",
          "Medium Ice Melt",
          "Medium Ice Melt",
          "Medium Ice Melt",
          "Medium Ice Melt",
          "Medium Ice Melt",
          "Medium Ice Melt",
          "Medium Ice Melt",
          "Medium Ice Melt",
          "Medium Ice Melt",
          "Medium Ice Melt",
          "Medium Ice Melt",
          "Medium Ice Melt",
          "Medium Ice Melt",
          "Medium Ice Melt",
          "Medium Ice Melt",
          "Medium Ice Melt",
          "Medium Ice Melt",
          "Medium Ice Melt",
          "Medium Ice Melt",
          "Medium Ice Melt",
          "Medium Ice Melt"
         ],
         "legendgroup": "Medium Ice Melt",
         "marker": {
          "color": "#636efa",
          "symbol": "circle"
         },
         "mode": "markers",
         "name": "Medium Ice Melt",
         "orientation": "v",
         "showlegend": true,
         "type": "scatter",
         "x": [
          1,
          1,
          9,
          20,
          1,
          18,
          20,
          20,
          3,
          20,
          15,
          1,
          10,
          2,
          18,
          12,
          18,
          11,
          2,
          1,
          1,
          19,
          -19,
          6,
          2,
          16,
          -18,
          19,
          -15,
          10,
          7,
          12,
          10,
          20,
          14,
          19,
          11,
          20,
          20,
          11,
          11,
          14,
          -2,
          20,
          8,
          11,
          12,
          1,
          7,
          3,
          18,
          14,
          10,
          12,
          -20,
          5,
          19,
          9,
          2,
          18,
          2,
          20,
          19,
          8,
          7,
          17,
          20,
          20,
          2,
          1,
          15,
          18,
          16,
          16,
          18,
          20,
          7,
          20,
          3,
          8,
          2,
          10,
          18,
          2,
          14,
          20,
          12,
          14,
          9,
          -5,
          -11,
          3,
          14,
          10,
          16,
          -18,
          10,
          20,
          7,
          13,
          19,
          13,
          20,
          3,
          19,
          1,
          -20,
          15,
          19,
          11,
          11,
          14,
          8,
          -1,
          17,
          20,
          3,
          7,
          18,
          16,
          17,
          2,
          1,
          18,
          3,
          20,
          20,
          1,
          17,
          12,
          20,
          -2,
          17,
          10,
          14,
          2,
          17,
          9,
          8,
          1,
          2,
          20,
          3,
          20,
          17,
          20,
          -1,
          1,
          17,
          18,
          11,
          6,
          12,
          19,
          20,
          11,
          15,
          11,
          13,
          13,
          15,
          9,
          3,
          16,
          3,
          3,
          17,
          8,
          10,
          3,
          1,
          15,
          20,
          17,
          3,
          12,
          11,
          20,
          8,
          20,
          18,
          18,
          16,
          10,
          20,
          20,
          3,
          6,
          11,
          12,
          20,
          14,
          -20,
          -20,
          2,
          1,
          12,
          1,
          6,
          17,
          20,
          14,
          11,
          5,
          15,
          5,
          5,
          11,
          19,
          20,
          14,
          11,
          10,
          12,
          5,
          18,
          10,
          20,
          10,
          10,
          8,
          8,
          16,
          16,
          3,
          16,
          10,
          10,
          7,
          1,
          11,
          20,
          1,
          12,
          6,
          9,
          19,
          18,
          3,
          2,
          15,
          18,
          17,
          8,
          3,
          20,
          3,
          15,
          20,
          10,
          18,
          18,
          8,
          1,
          12,
          2,
          13,
          10,
          3,
          13,
          11,
          3,
          16,
          1,
          16,
          15,
          12,
          5,
          18,
          -3,
          10,
          16,
          12,
          15,
          20,
          14,
          3,
          5,
          20,
          20,
          15,
          20,
          2,
          5,
          20,
          12,
          14,
          20,
          -20,
          5,
          20,
          8,
          9,
          20,
          3,
          5,
          18,
          10,
          6,
          20,
          10,
          3,
          -11,
          19,
          19,
          20,
          20,
          7,
          19,
          11,
          19,
          14,
          15,
          13
         ],
         "xaxis": "x",
         "y": [
          22,
          22,
          20,
          16,
          22,
          20,
          16,
          16,
          22,
          20,
          20,
          22,
          20,
          22,
          16,
          16,
          16,
          20,
          22,
          22,
          22,
          20,
          20,
          20,
          22,
          16,
          16,
          20,
          20,
          20,
          20,
          20,
          16,
          16,
          20,
          20,
          20,
          16,
          16,
          20,
          20,
          20,
          22,
          16,
          20,
          20,
          20,
          22,
          20,
          22,
          16,
          16,
          20,
          16,
          16,
          20,
          20,
          20,
          22,
          20,
          22,
          16,
          20,
          20,
          20,
          20,
          16,
          16,
          22,
          22,
          20,
          20,
          16,
          20,
          16,
          16,
          20,
          16,
          22,
          20,
          22,
          20,
          16,
          22,
          20,
          16,
          20,
          20,
          20,
          20,
          20,
          22,
          16,
          20,
          20,
          16,
          20,
          16,
          20,
          20,
          20,
          20,
          16,
          22,
          20,
          22,
          16,
          20,
          20,
          20,
          20,
          20,
          20,
          22,
          20,
          16,
          22,
          20,
          20,
          20,
          20,
          22,
          22,
          20,
          22,
          20,
          16,
          22,
          20,
          20,
          16,
          22,
          20,
          20,
          20,
          22,
          20,
          20,
          20,
          22,
          22,
          16,
          22,
          16,
          20,
          20,
          22,
          22,
          20,
          20,
          20,
          20,
          20,
          20,
          16,
          20,
          20,
          20,
          20,
          20,
          20,
          20,
          22,
          20,
          22,
          22,
          20,
          20,
          16,
          22,
          22,
          20,
          16,
          20,
          22,
          20,
          20,
          16,
          20,
          16,
          20,
          20,
          20,
          20,
          16,
          16,
          22,
          20,
          20,
          20,
          16,
          20,
          20,
          16,
          22,
          22,
          20,
          22,
          20,
          20,
          20,
          20,
          20,
          20,
          20,
          20,
          20,
          20,
          20,
          16,
          20,
          20,
          20,
          20,
          20,
          16,
          20,
          16,
          20,
          20,
          20,
          20,
          16,
          20,
          22,
          20,
          16,
          20,
          20,
          22,
          20,
          16,
          22,
          20,
          20,
          20,
          20,
          16,
          22,
          22,
          20,
          16,
          20,
          20,
          22,
          16,
          22,
          20,
          16,
          20,
          20,
          20,
          20,
          22,
          20,
          22,
          20,
          16,
          22,
          20,
          20,
          22,
          20,
          22,
          16,
          20,
          20,
          20,
          20,
          22,
          16,
          20,
          20,
          20,
          16,
          16,
          22,
          20,
          16,
          16,
          20,
          16,
          22,
          20,
          16,
          20,
          16,
          16,
          20,
          20,
          20,
          20,
          20,
          20,
          22,
          20,
          16,
          20,
          20,
          16,
          20,
          22,
          20,
          20,
          20,
          16,
          16,
          20,
          20,
          20,
          20,
          20,
          20,
          20
         ],
         "yaxis": "y"
        },
        {
         "customdata": [
          [
           105
          ],
          [
           95
          ],
          [
           81
          ],
          [
           145
          ],
          [
           58
          ],
          [
           143
          ],
          [
           75
          ],
          [
           251
          ],
          [
           79
          ],
          [
           193
          ],
          [
           132
          ],
          [
           103
          ],
          [
           173
          ],
          [
           210
          ],
          [
           217
          ],
          [
           127
          ],
          [
           97
          ],
          [
           177
          ],
          [
           -90
          ],
          [
           112
          ],
          [
           -76
          ],
          [
           142
          ],
          [
           133
          ],
          [
           133
          ],
          [
           109
          ],
          [
           150
          ],
          [
           139
          ],
          [
           178
          ],
          [
           230
          ],
          [
           69
          ],
          [
           235
          ],
          [
           185
          ],
          [
           297
          ],
          [
           184
          ],
          [
           305
          ],
          [
           223
          ],
          [
           300
          ],
          [
           180
          ],
          [
           92
          ],
          [
           238
          ],
          [
           96
          ],
          [
           -129
          ],
          [
           157
          ],
          [
           164
          ],
          [
           196
          ],
          [
           130
          ],
          [
           237
          ],
          [
           186
          ],
          [
           49
          ],
          [
           136
          ],
          [
           96
          ],
          [
           215
          ],
          [
           198
          ],
          [
           136
          ],
          [
           89
          ],
          [
           257
          ],
          [
           223
          ],
          [
           250
          ],
          [
           231
          ],
          [
           186
          ],
          [
           101
          ],
          [
           199
          ],
          [
           149
          ],
          [
           175
          ],
          [
           166
          ],
          [
           224
          ],
          [
           0
          ],
          [
           164
          ],
          [
           145
          ],
          [
           253
          ],
          [
           141
          ],
          [
           246
          ],
          [
           6
          ],
          [
           226
          ],
          [
           206
          ],
          [
           252
          ],
          [
           133
          ],
          [
           241
          ],
          [
           238
          ],
          [
           151
          ],
          [
           170
          ],
          [
           227
          ],
          [
           179
          ],
          [
           218
          ],
          [
           225
          ],
          [
           157
          ],
          [
           251
          ],
          [
           159
          ],
          [
           135
          ],
          [
           228
          ],
          [
           90
          ],
          [
           120
          ],
          [
           50
          ],
          [
           195
          ],
          [
           157
          ],
          [
           136
          ],
          [
           193
          ],
          [
           189
          ],
          [
           -103
          ],
          [
           223
          ],
          [
           156
          ],
          [
           205
          ],
          [
           141
          ],
          [
           165
          ],
          [
           199
          ],
          [
           100
          ],
          [
           140
          ],
          [
           170
          ],
          [
           32
          ],
          [
           188
          ],
          [
           112
          ],
          [
           164
          ],
          [
           217
          ],
          [
           284
          ],
          [
           86
          ],
          [
           119
          ],
          [
           71
          ],
          [
           216
          ],
          [
           130
          ],
          [
           203
          ],
          [
           216
          ],
          [
           189
          ],
          [
           183
          ],
          [
           285
          ],
          [
           281
          ],
          [
           253
          ],
          [
           112
          ],
          [
           197
          ],
          [
           182
          ],
          [
           164
          ],
          [
           68
          ],
          [
           137
          ],
          [
           258
          ],
          [
           137
          ],
          [
           180
          ],
          [
           245
          ],
          [
           194
          ],
          [
           142
          ],
          [
           94
          ],
          [
           52
          ],
          [
           124
          ],
          [
           225
          ],
          [
           183
          ],
          [
           64
          ],
          [
           192
          ],
          [
           117
          ],
          [
           251
          ],
          [
           116
          ],
          [
           124
          ],
          [
           234
          ],
          [
           189
          ],
          [
           198
          ],
          [
           214
          ],
          [
           181
          ],
          [
           215
          ],
          [
           174
          ],
          [
           196
          ],
          [
           121
          ],
          [
           154
          ],
          [
           47
          ],
          [
           248
          ],
          [
           95
          ],
          [
           159
          ],
          [
           84
          ],
          [
           220
          ],
          [
           87
          ],
          [
           185
          ],
          [
           170
          ],
          [
           161
          ],
          [
           30
          ],
          [
           121
          ],
          [
           139
          ],
          [
           256
          ],
          [
           65
          ],
          [
           161
          ],
          [
           135
          ],
          [
           218
          ],
          [
           57
          ],
          [
           48
          ],
          [
           239
          ],
          [
           149
          ],
          [
           229
          ],
          [
           19
          ],
          [
           91
          ],
          [
           227
          ],
          [
           101
          ],
          [
           96
          ],
          [
           173
          ],
          [
           191
          ],
          [
           173
          ],
          [
           233
          ],
          [
           249
          ],
          [
           123
          ],
          [
           160
          ],
          [
           268
          ],
          [
           172
          ],
          [
           32
          ],
          [
           240
          ],
          [
           229
          ],
          [
           221
          ],
          [
           85
          ],
          [
           72
          ],
          [
           27
          ],
          [
           150
          ],
          [
           85
          ],
          [
           196
          ],
          [
           83
          ],
          [
           155
          ],
          [
           154
          ],
          [
           201
          ],
          [
           212
          ],
          [
           156
          ],
          [
           162
          ],
          [
           161
          ],
          [
           144
          ],
          [
           70
          ],
          [
           226
          ],
          [
           193
          ],
          [
           225
          ],
          [
           164
          ],
          [
           246
          ],
          [
           161
          ],
          [
           291
          ],
          [
           172
          ],
          [
           96
          ],
          [
           180
          ],
          [
           92
          ],
          [
           212
          ],
          [
           213
          ],
          [
           105
          ],
          [
           277
          ],
          [
           209
          ],
          [
           221
          ],
          [
           317
          ],
          [
           219
          ],
          [
           45
          ],
          [
           247
          ],
          [
           148
          ],
          [
           81
          ],
          [
           188
          ],
          [
           32
          ],
          [
           247
          ],
          [
           134
          ],
          [
           -5
          ],
          [
           112
          ],
          [
           195
          ],
          [
           218
          ],
          [
           212
          ],
          [
           145
          ],
          [
           246
          ],
          [
           216
          ],
          [
           62
          ],
          [
           227
          ],
          [
           195
          ],
          [
           200
          ],
          [
           221
          ],
          [
           111
          ],
          [
           130
          ],
          [
           180
          ],
          [
           56
          ],
          [
           203
          ],
          [
           111
          ],
          [
           226
          ],
          [
           234
          ],
          [
           -104
          ],
          [
           191
          ],
          [
           249
          ],
          [
           246
          ],
          [
           202
          ],
          [
           140
          ],
          [
           93
          ],
          [
           232
          ],
          [
           214
          ],
          [
           207
          ],
          [
           104
          ],
          [
           112
          ],
          [
           138
          ],
          [
           203
          ],
          [
           212
          ],
          [
           153
          ],
          [
           190
          ],
          [
           172
          ],
          [
           38
          ],
          [
           302
          ],
          [
           197
          ],
          [
           119
          ],
          [
           100
          ],
          [
           125
          ],
          [
           191
          ],
          [
           71
          ],
          [
           147
          ],
          [
           89
          ],
          [
           18
          ],
          [
           -58
          ],
          [
           37
          ],
          [
           -89
          ],
          [
           228
          ],
          [
           142
          ],
          [
           -118
          ],
          [
           277
          ],
          [
           249
          ],
          [
           172
          ],
          [
           161
          ],
          [
           216
          ],
          [
           93
          ],
          [
           296
          ],
          [
           125
          ],
          [
           187
          ],
          [
           274
          ],
          [
           38
          ],
          [
           242
          ],
          [
           283
          ],
          [
           174
          ],
          [
           127
          ],
          [
           187
          ],
          [
           168
          ],
          [
           254
          ],
          [
           122
          ],
          [
           231
          ],
          [
           130
          ],
          [
           177
          ],
          [
           173
          ],
          [
           101
          ],
          [
           97
          ],
          [
           55
          ],
          [
           61
          ],
          [
           109
          ],
          [
           121
          ],
          [
           206
          ],
          [
           122
          ],
          [
           177
          ],
          [
           77
          ],
          [
           -49
          ],
          [
           207
          ],
          [
           183
          ],
          [
           154
          ],
          [
           123
          ],
          [
           256
          ],
          [
           131
          ],
          [
           219
          ],
          [
           240
          ],
          [
           44
          ],
          [
           184
          ],
          [
           48
          ],
          [
           171
          ],
          [
           95
          ],
          [
           124
          ],
          [
           179
          ],
          [
           120
          ],
          [
           45
          ],
          [
           193
          ],
          [
           127
          ],
          [
           305
          ],
          [
           228
          ],
          [
           85
          ],
          [
           111
          ],
          [
           208
          ],
          [
           178
          ],
          [
           198
          ],
          [
           204
          ],
          [
           175
          ],
          [
           227
          ],
          [
           124
          ]
         ],
         "hovertemplate": "<b>%{hovertext}</b><br><br>Product=Small Ice Melt<br>Qty Ordered=%{x}<br>Price Each=%{y}<br>Total Order Amount=%{customdata[0]}<extra></extra>",
         "hovertext": [
          "Small Ice Melt",
          "Small Ice Melt",
          "Small Ice Melt",
          "Small Ice Melt",
          "Small Ice Melt",
          "Small Ice Melt",
          "Small Ice Melt",
          "Small Ice Melt",
          "Small Ice Melt",
          "Small Ice Melt",
          "Small Ice Melt",
          "Small Ice Melt",
          "Small Ice Melt",
          "Small Ice Melt",
          "Small Ice Melt",
          "Small Ice Melt",
          "Small Ice Melt",
          "Small Ice Melt",
          "Small Ice Melt",
          "Small Ice Melt",
          "Small Ice Melt",
          "Small Ice Melt",
          "Small Ice Melt",
          "Small Ice Melt",
          "Small Ice Melt",
          "Small Ice Melt",
          "Small Ice Melt",
          "Small Ice Melt",
          "Small Ice Melt",
          "Small Ice Melt",
          "Small Ice Melt",
          "Small Ice Melt",
          "Small Ice Melt",
          "Small Ice Melt",
          "Small Ice Melt",
          "Small Ice Melt",
          "Small Ice Melt",
          "Small Ice Melt",
          "Small Ice Melt",
          "Small Ice Melt",
          "Small Ice Melt",
          "Small Ice Melt",
          "Small Ice Melt",
          "Small Ice Melt",
          "Small Ice Melt",
          "Small Ice Melt",
          "Small Ice Melt",
          "Small Ice Melt",
          "Small Ice Melt",
          "Small Ice Melt",
          "Small Ice Melt",
          "Small Ice Melt",
          "Small Ice Melt",
          "Small Ice Melt",
          "Small Ice Melt",
          "Small Ice Melt",
          "Small Ice Melt",
          "Small Ice Melt",
          "Small Ice Melt",
          "Small Ice Melt",
          "Small Ice Melt",
          "Small Ice Melt",
          "Small Ice Melt",
          "Small Ice Melt",
          "Small Ice Melt",
          "Small Ice Melt",
          "Small Ice Melt",
          "Small Ice Melt",
          "Small Ice Melt",
          "Small Ice Melt",
          "Small Ice Melt",
          "Small Ice Melt",
          "Small Ice Melt",
          "Small Ice Melt",
          "Small Ice Melt",
          "Small Ice Melt",
          "Small Ice Melt",
          "Small Ice Melt",
          "Small Ice Melt",
          "Small Ice Melt",
          "Small Ice Melt",
          "Small Ice Melt",
          "Small Ice Melt",
          "Small Ice Melt",
          "Small Ice Melt",
          "Small Ice Melt",
          "Small Ice Melt",
          "Small Ice Melt",
          "Small Ice Melt",
          "Small Ice Melt",
          "Small Ice Melt",
          "Small Ice Melt",
          "Small Ice Melt",
          "Small Ice Melt",
          "Small Ice Melt",
          "Small Ice Melt",
          "Small Ice Melt",
          "Small Ice Melt",
          "Small Ice Melt",
          "Small Ice Melt",
          "Small Ice Melt",
          "Small Ice Melt",
          "Small Ice Melt",
          "Small Ice Melt",
          "Small Ice Melt",
          "Small Ice Melt",
          "Small Ice Melt",
          "Small Ice Melt",
          "Small Ice Melt",
          "Small Ice Melt",
          "Small Ice Melt",
          "Small Ice Melt",
          "Small Ice Melt",
          "Small Ice Melt",
          "Small Ice Melt",
          "Small Ice Melt",
          "Small Ice Melt",
          "Small Ice Melt",
          "Small Ice Melt",
          "Small Ice Melt",
          "Small Ice Melt",
          "Small Ice Melt",
          "Small Ice Melt",
          "Small Ice Melt",
          "Small Ice Melt",
          "Small Ice Melt",
          "Small Ice Melt",
          "Small Ice Melt",
          "Small Ice Melt",
          "Small Ice Melt",
          "Small Ice Melt",
          "Small Ice Melt",
          "Small Ice Melt",
          "Small Ice Melt",
          "Small Ice Melt",
          "Small Ice Melt",
          "Small Ice Melt",
          "Small Ice Melt",
          "Small Ice Melt",
          "Small Ice Melt",
          "Small Ice Melt",
          "Small Ice Melt",
          "Small Ice Melt",
          "Small Ice Melt",
          "Small Ice Melt",
          "Small Ice Melt",
          "Small Ice Melt",
          "Small Ice Melt",
          "Small Ice Melt",
          "Small Ice Melt",
          "Small Ice Melt",
          "Small Ice Melt",
          "Small Ice Melt",
          "Small Ice Melt",
          "Small Ice Melt",
          "Small Ice Melt",
          "Small Ice Melt",
          "Small Ice Melt",
          "Small Ice Melt",
          "Small Ice Melt",
          "Small Ice Melt",
          "Small Ice Melt",
          "Small Ice Melt",
          "Small Ice Melt",
          "Small Ice Melt",
          "Small Ice Melt",
          "Small Ice Melt",
          "Small Ice Melt",
          "Small Ice Melt",
          "Small Ice Melt",
          "Small Ice Melt",
          "Small Ice Melt",
          "Small Ice Melt",
          "Small Ice Melt",
          "Small Ice Melt",
          "Small Ice Melt",
          "Small Ice Melt",
          "Small Ice Melt",
          "Small Ice Melt",
          "Small Ice Melt",
          "Small Ice Melt",
          "Small Ice Melt",
          "Small Ice Melt",
          "Small Ice Melt",
          "Small Ice Melt",
          "Small Ice Melt",
          "Small Ice Melt",
          "Small Ice Melt",
          "Small Ice Melt",
          "Small Ice Melt",
          "Small Ice Melt",
          "Small Ice Melt",
          "Small Ice Melt",
          "Small Ice Melt",
          "Small Ice Melt",
          "Small Ice Melt",
          "Small Ice Melt",
          "Small Ice Melt",
          "Small Ice Melt",
          "Small Ice Melt",
          "Small Ice Melt",
          "Small Ice Melt",
          "Small Ice Melt",
          "Small Ice Melt",
          "Small Ice Melt",
          "Small Ice Melt",
          "Small Ice Melt",
          "Small Ice Melt",
          "Small Ice Melt",
          "Small Ice Melt",
          "Small Ice Melt",
          "Small Ice Melt",
          "Small Ice Melt",
          "Small Ice Melt",
          "Small Ice Melt",
          "Small Ice Melt",
          "Small Ice Melt",
          "Small Ice Melt",
          "Small Ice Melt",
          "Small Ice Melt",
          "Small Ice Melt",
          "Small Ice Melt",
          "Small Ice Melt",
          "Small Ice Melt",
          "Small Ice Melt",
          "Small Ice Melt",
          "Small Ice Melt",
          "Small Ice Melt",
          "Small Ice Melt",
          "Small Ice Melt",
          "Small Ice Melt",
          "Small Ice Melt",
          "Small Ice Melt",
          "Small Ice Melt",
          "Small Ice Melt",
          "Small Ice Melt",
          "Small Ice Melt",
          "Small Ice Melt",
          "Small Ice Melt",
          "Small Ice Melt",
          "Small Ice Melt",
          "Small Ice Melt",
          "Small Ice Melt",
          "Small Ice Melt",
          "Small Ice Melt",
          "Small Ice Melt",
          "Small Ice Melt",
          "Small Ice Melt",
          "Small Ice Melt",
          "Small Ice Melt",
          "Small Ice Melt",
          "Small Ice Melt",
          "Small Ice Melt",
          "Small Ice Melt",
          "Small Ice Melt",
          "Small Ice Melt",
          "Small Ice Melt",
          "Small Ice Melt",
          "Small Ice Melt",
          "Small Ice Melt",
          "Small Ice Melt",
          "Small Ice Melt",
          "Small Ice Melt",
          "Small Ice Melt",
          "Small Ice Melt",
          "Small Ice Melt",
          "Small Ice Melt",
          "Small Ice Melt",
          "Small Ice Melt",
          "Small Ice Melt",
          "Small Ice Melt",
          "Small Ice Melt",
          "Small Ice Melt",
          "Small Ice Melt",
          "Small Ice Melt",
          "Small Ice Melt",
          "Small Ice Melt",
          "Small Ice Melt",
          "Small Ice Melt",
          "Small Ice Melt",
          "Small Ice Melt",
          "Small Ice Melt",
          "Small Ice Melt",
          "Small Ice Melt",
          "Small Ice Melt",
          "Small Ice Melt",
          "Small Ice Melt",
          "Small Ice Melt",
          "Small Ice Melt",
          "Small Ice Melt",
          "Small Ice Melt",
          "Small Ice Melt",
          "Small Ice Melt",
          "Small Ice Melt",
          "Small Ice Melt",
          "Small Ice Melt",
          "Small Ice Melt",
          "Small Ice Melt",
          "Small Ice Melt",
          "Small Ice Melt",
          "Small Ice Melt",
          "Small Ice Melt",
          "Small Ice Melt",
          "Small Ice Melt",
          "Small Ice Melt",
          "Small Ice Melt",
          "Small Ice Melt",
          "Small Ice Melt",
          "Small Ice Melt",
          "Small Ice Melt",
          "Small Ice Melt",
          "Small Ice Melt",
          "Small Ice Melt",
          "Small Ice Melt",
          "Small Ice Melt",
          "Small Ice Melt",
          "Small Ice Melt",
          "Small Ice Melt",
          "Small Ice Melt",
          "Small Ice Melt",
          "Small Ice Melt",
          "Small Ice Melt",
          "Small Ice Melt",
          "Small Ice Melt",
          "Small Ice Melt",
          "Small Ice Melt",
          "Small Ice Melt",
          "Small Ice Melt",
          "Small Ice Melt",
          "Small Ice Melt",
          "Small Ice Melt",
          "Small Ice Melt",
          "Small Ice Melt",
          "Small Ice Melt",
          "Small Ice Melt",
          "Small Ice Melt",
          "Small Ice Melt",
          "Small Ice Melt",
          "Small Ice Melt",
          "Small Ice Melt",
          "Small Ice Melt",
          "Small Ice Melt",
          "Small Ice Melt",
          "Small Ice Melt",
          "Small Ice Melt",
          "Small Ice Melt",
          "Small Ice Melt",
          "Small Ice Melt",
          "Small Ice Melt",
          "Small Ice Melt",
          "Small Ice Melt",
          "Small Ice Melt",
          "Small Ice Melt",
          "Small Ice Melt",
          "Small Ice Melt",
          "Small Ice Melt",
          "Small Ice Melt",
          "Small Ice Melt",
          "Small Ice Melt",
          "Small Ice Melt",
          "Small Ice Melt",
          "Small Ice Melt",
          "Small Ice Melt"
         ],
         "legendgroup": "Small Ice Melt",
         "marker": {
          "color": "#EF553B",
          "symbol": "circle"
         },
         "mode": "markers",
         "name": "Small Ice Melt",
         "orientation": "v",
         "showlegend": true,
         "type": "scatter",
         "x": [
          9,
          1,
          3,
          13,
          2,
          6,
          1,
          20,
          3,
          20,
          11,
          8,
          11,
          17,
          18,
          3,
          3,
          20,
          -20,
          5,
          -13,
          9,
          11,
          10,
          6,
          12,
          9,
          14,
          15,
          1,
          20,
          12,
          18,
          10,
          19,
          20,
          20,
          14,
          1,
          20,
          8,
          -18,
          18,
          13,
          13,
          1,
          14,
          13,
          1,
          12,
          7,
          15,
          13,
          12,
          5,
          20,
          15,
          15,
          16,
          9,
          2,
          17,
          10,
          7,
          15,
          14,
          -3,
          12,
          10,
          20,
          7,
          20,
          -8,
          20,
          20,
          11,
          6,
          20,
          20,
          12,
          12,
          14,
          13,
          16,
          20,
          13,
          13,
          12,
          6,
          18,
          3,
          10,
          1,
          20,
          16,
          11,
          14,
          15,
          -18,
          20,
          12,
          10,
          13,
          11,
          20,
          1,
          5,
          9,
          1,
          12,
          10,
          12,
          20,
          19,
          1,
          10,
          3,
          20,
          6,
          12,
          13,
          14,
          8,
          20,
          20,
          20,
          2,
          11,
          18,
          11,
          2,
          7,
          20,
          11,
          13,
          19,
          20,
          11,
          7,
          2,
          8,
          20,
          20,
          2,
          12,
          8,
          20,
          7,
          12,
          19,
          13,
          15,
          17,
          20,
          14,
          20,
          14,
          1,
          10,
          1,
          19,
          5,
          14,
          3,
          19,
          6,
          12,
          15,
          14,
          1,
          11,
          10,
          16,
          2,
          16,
          9,
          17,
          5,
          2,
          19,
          7,
          20,
          1,
          3,
          12,
          1,
          5,
          14,
          20,
          10,
          18,
          20,
          2,
          7,
          17,
          20,
          -9,
          19,
          17,
          20,
          3,
          2,
          1,
          12,
          10,
          12,
          3,
          15,
          16,
          20,
          14,
          13,
          11,
          12,
          10,
          2,
          16,
          20,
          20,
          10,
          13,
          9,
          19,
          20,
          5,
          12,
          3,
          20,
          15,
          12,
          19,
          20,
          13,
          20,
          17,
          1,
          20,
          11,
          5,
          18,
          1,
          18,
          14,
          -6,
          3,
          14,
          14,
          20,
          10,
          15,
          12,
          2,
          19,
          10,
          14,
          18,
          2,
          12,
          16,
          2,
          20,
          3,
          18,
          17,
          -19,
          14,
          14,
          20,
          19,
          12,
          8,
          14,
          16,
          15,
          1,
          9,
          10,
          17,
          12,
          6,
          10,
          20,
          1,
          19,
          16,
          10,
          2,
          3,
          17,
          1,
          8,
          7,
          1,
          -15,
          2,
          -11,
          19,
          10,
          -20,
          20,
          20,
          8,
          12,
          20,
          8,
          17,
          8,
          20,
          18,
          3,
          20,
          20,
          11,
          10,
          15,
          20,
          19,
          8,
          16,
          3,
          12,
          20,
          1,
          5,
          1,
          2,
          10,
          5,
          11,
          10,
          17,
          2,
          -7,
          9,
          12,
          12,
          11,
          19,
          5,
          20,
          18,
          3,
          16,
          2,
          14,
          3,
          3,
          11,
          3,
          1,
          9,
          3,
          19,
          20,
          1,
          10,
          9,
          13,
          12,
          12,
          13,
          14,
          3
         ],
         "xaxis": "x",
         "y": [
          10,
          11,
          11,
          10,
          11,
          10,
          11,
          10,
          11,
          8,
          10,
          10,
          10,
          10,
          10,
          11,
          11,
          8,
          8,
          10,
          10,
          10,
          10,
          8,
          10,
          10,
          10,
          10,
          10,
          11,
          10,
          10,
          10,
          8,
          10,
          8,
          10,
          10,
          11,
          8,
          10,
          10,
          8,
          10,
          10,
          11,
          10,
          10,
          11,
          8,
          10,
          10,
          10,
          8,
          10,
          8,
          10,
          10,
          10,
          10,
          11,
          10,
          8,
          10,
          10,
          10,
          11,
          10,
          10,
          10,
          10,
          8,
          10,
          8,
          10,
          10,
          10,
          8,
          8,
          10,
          10,
          10,
          10,
          10,
          8,
          10,
          10,
          8,
          10,
          10,
          11,
          10,
          11,
          8,
          8,
          10,
          10,
          10,
          10,
          8,
          8,
          10,
          10,
          10,
          8,
          11,
          10,
          10,
          11,
          8,
          8,
          10,
          8,
          10,
          11,
          10,
          11,
          8,
          10,
          10,
          10,
          8,
          10,
          10,
          10,
          8,
          11,
          10,
          8,
          10,
          11,
          10,
          8,
          10,
          10,
          10,
          8,
          10,
          10,
          11,
          10,
          8,
          8,
          11,
          10,
          10,
          8,
          10,
          8,
          10,
          10,
          10,
          10,
          8,
          10,
          8,
          10,
          11,
          10,
          11,
          10,
          10,
          10,
          11,
          10,
          10,
          8,
          10,
          8,
          11,
          10,
          10,
          10,
          11,
          8,
          10,
          10,
          10,
          11,
          10,
          10,
          8,
          11,
          11,
          10,
          11,
          10,
          10,
          8,
          10,
          10,
          8,
          11,
          10,
          10,
          8,
          10,
          10,
          10,
          8,
          11,
          11,
          11,
          10,
          8,
          10,
          11,
          10,
          8,
          8,
          10,
          10,
          10,
          8,
          10,
          11,
          10,
          8,
          10,
          8,
          10,
          10,
          10,
          8,
          10,
          8,
          11,
          8,
          10,
          8,
          10,
          8,
          10,
          10,
          10,
          11,
          8,
          10,
          10,
          10,
          11,
          10,
          8,
          10,
          11,
          10,
          10,
          8,
          10,
          10,
          10,
          11,
          10,
          10,
          10,
          10,
          11,
          10,
          10,
          11,
          8,
          11,
          8,
          10,
          10,
          10,
          10,
          10,
          10,
          8,
          10,
          8,
          10,
          10,
          11,
          10,
          8,
          10,
          10,
          10,
          10,
          8,
          11,
          10,
          10,
          10,
          11,
          11,
          10,
          11,
          10,
          10,
          11,
          10,
          11,
          10,
          10,
          10,
          8,
          10,
          8,
          10,
          10,
          8,
          10,
          10,
          10,
          8,
          10,
          11,
          8,
          10,
          10,
          10,
          10,
          8,
          10,
          10,
          10,
          11,
          10,
          8,
          11,
          10,
          11,
          11,
          10,
          10,
          10,
          10,
          10,
          11,
          10,
          10,
          10,
          10,
          10,
          10,
          10,
          8,
          10,
          11,
          10,
          11,
          10,
          11,
          11,
          10,
          11,
          11,
          10,
          11,
          10,
          8,
          11,
          10,
          10,
          10,
          10,
          10,
          10,
          10,
          11
         ],
         "yaxis": "y"
        },
        {
         "customdata": [
          [
           95.50000000000001
          ],
          [
           156
          ],
          [
           158
          ],
          [
           275
          ],
          [
           177
          ],
          [
           236
          ],
          [
           -347
          ],
          [
           84.5
          ],
          [
           401
          ],
          [
           255
          ],
          [
           559
          ],
          [
           575
          ],
          [
           137.5
          ],
          [
           312
          ],
          [
           570
          ],
          [
           406
          ],
          [
           382
          ],
          [
           329
          ],
          [
           71.5
          ],
          [
           257
          ],
          [
           285
          ],
          [
           122
          ],
          [
           596
          ],
          [
           402
          ],
          [
           37.5
          ],
          [
           238
          ],
          [
           -90
          ],
          [
           204
          ],
          [
           541
          ],
          [
           104
          ],
          [
           431
          ],
          [
           234
          ],
          [
           320
          ],
          [
           447
          ],
          [
           110.50000000000001
          ],
          [
           524
          ],
          [
           515
          ],
          [
           495
          ],
          [
           321
          ],
          [
           131
          ],
          [
           447
          ],
          [
           144.5
          ],
          [
           361
          ],
          [
           404
          ],
          [
           458
          ],
          [
           40.5
          ],
          [
           92
          ],
          [
           175.5
          ],
          [
           198
          ],
          [
           271
          ],
          [
           474
          ],
          [
           453
          ],
          [
           379
          ],
          [
           369
          ],
          [
           255
          ],
          [
           200
          ],
          [
           385
          ],
          [
           119.5
          ],
          [
           237
          ],
          [
           86
          ],
          [
           516
          ],
          [
           431
          ],
          [
           -287
          ],
          [
           497
          ],
          [
           63.5
          ],
          [
           393
          ],
          [
           605
          ],
          [
           353
          ],
          [
           222.5
          ],
          [
           430
          ],
          [
           465
          ],
          [
           -106
          ],
          [
           400
          ],
          [
           533
          ],
          [
           57.5
          ],
          [
           314
          ],
          [
           511
          ],
          [
           395
          ],
          [
           345
          ],
          [
           172
          ],
          [
           542
          ],
          [
           268
          ],
          [
           90
          ],
          [
           496
          ],
          [
           409
          ],
          [
           330
          ],
          [
           533
          ],
          [
           586
          ],
          [
           388
          ],
          [
           260
          ],
          [
           148.5
          ],
          [
           -450
          ],
          [
           559
          ],
          [
           394
          ],
          [
           516
          ],
          [
           178
          ],
          [
           414
          ],
          [
           455
          ],
          [
           119.50000000000001
          ],
          [
           309
          ],
          [
           314
          ],
          [
           327
          ],
          [
           458
          ],
          [
           498
          ],
          [
           204.5
          ],
          [
           349
          ],
          [
           435
          ],
          [
           -55
          ],
          [
           414
          ],
          [
           115.50000000000001
          ],
          [
           25.999999999999993
          ],
          [
           464
          ],
          [
           110.5
          ],
          [
           123
          ],
          [
           425
          ],
          [
           172
          ],
          [
           139
          ],
          [
           384
          ],
          [
           110.5
          ],
          [
           406
          ],
          [
           354
          ],
          [
           -267
          ],
          [
           439
          ],
          [
           543
          ],
          [
           122
          ],
          [
           337
          ],
          [
           68.5
          ],
          [
           101.50000000000001
          ],
          [
           453
          ],
          [
           460
          ],
          [
           82.5
          ],
          [
           269
          ],
          [
           437
          ],
          [
           453
          ],
          [
           511
          ],
          [
           506
          ],
          [
           -19.500000000000014
          ],
          [
           485
          ],
          [
           303
          ],
          [
           488
          ],
          [
           197
          ],
          [
           199
          ],
          [
           411
          ],
          [
           84
          ],
          [
           404
          ],
          [
           382
          ],
          [
           422
          ],
          [
           472
          ],
          [
           481
          ],
          [
           188
          ],
          [
           41.5
          ],
          [
           71.5
          ],
          [
           343
          ],
          [
           444
          ],
          [
           417
          ],
          [
           510
          ],
          [
           483
          ],
          [
           462
          ],
          [
           373
          ],
          [
           94.50000000000001
          ],
          [
           228
          ],
          [
           94
          ],
          [
           396
          ],
          [
           51.5
          ],
          [
           453
          ],
          [
           -300
          ],
          [
           132.5
          ],
          [
           275
          ],
          [
           461
          ],
          [
           436
          ],
          [
           444
          ],
          [
           504
          ],
          [
           -354
          ],
          [
           476
          ],
          [
           223
          ],
          [
           447
          ],
          [
           109.5
          ],
          [
           570
          ],
          [
           485
          ],
          [
           68
          ],
          [
           120.5
          ],
          [
           432
          ],
          [
           549
          ],
          [
           590
          ],
          [
           458
          ],
          [
           470
          ],
          [
           324
          ],
          [
           386
          ],
          [
           235
          ],
          [
           385
          ],
          [
           544
          ],
          [
           520
          ],
          [
           509
          ],
          [
           485
          ],
          [
           553
          ],
          [
           500
          ],
          [
           393
          ],
          [
           91.5
          ],
          [
           256
          ],
          [
           246
          ],
          [
           465
          ],
          [
           -276
          ],
          [
           439
          ],
          [
           452
          ],
          [
           481
          ],
          [
           174
          ],
          [
           272
          ],
          [
           185
          ],
          [
           -37.500000000000014
          ],
          [
           418
          ],
          [
           493
          ],
          [
           473
          ],
          [
           96
          ],
          [
           462
          ],
          [
           448
          ],
          [
           437
          ],
          [
           -367
          ],
          [
           153
          ],
          [
           137
          ],
          [
           392
          ],
          [
           115.50000000000001
          ],
          [
           431
          ],
          [
           466
          ],
          [
           273
          ],
          [
           463
          ],
          [
           264
          ],
          [
           320
          ],
          [
           182.5
          ],
          [
           479
          ],
          [
           69
          ],
          [
           500
          ],
          [
           -327
          ],
          [
           553
          ],
          [
           452
          ],
          [
           502
          ],
          [
           546
          ],
          [
           405
          ],
          [
           197
          ],
          [
           143.5
          ],
          [
           91
          ],
          [
           459
          ],
          [
           332
          ],
          [
           558
          ],
          [
           407
          ],
          [
           447
          ],
          [
           90.5
          ],
          [
           526
          ],
          [
           495
          ],
          [
           92.50000000000001
          ],
          [
           308
          ],
          [
           -94
          ],
          [
           400
          ],
          [
           437
          ],
          [
           143
          ],
          [
           53.5
          ],
          [
           418
          ],
          [
           541
          ],
          [
           66.5
          ],
          [
           470
          ],
          [
           256
          ],
          [
           182
          ],
          [
           419
          ],
          [
           328
          ],
          [
           540
          ],
          [
           435
          ],
          [
           281
          ],
          [
           383
          ],
          [
           -20.000000000000007
          ],
          [
           432
          ],
          [
           305
          ],
          [
           357
          ],
          [
           342
          ],
          [
           351
          ],
          [
           105.50000000000001
          ],
          [
           403
          ],
          [
           362
          ],
          [
           407
          ],
          [
           428
          ],
          [
           292
          ],
          [
           135
          ],
          [
           194
          ],
          [
           306
          ],
          [
           93.5
          ],
          [
           233
          ],
          [
           300
          ],
          [
           156
          ],
          [
           286
          ],
          [
           477
          ],
          [
           130.5
          ],
          [
           118
          ],
          [
           269
          ],
          [
           447
          ],
          [
           265
          ],
          [
           217
          ],
          [
           255
          ],
          [
           235
          ],
          [
           424
          ],
          [
           473
          ],
          [
           106.50000000000001
          ],
          [
           412
          ],
          [
           369
          ],
          [
           -287
          ],
          [
           -306
          ],
          [
           471
          ],
          [
           484
          ],
          [
           104
          ],
          [
           367
          ],
          [
           416
          ]
         ],
         "hovertemplate": "<b>%{hovertext}</b><br><br>Product=Large Ice Melt<br>Qty Ordered=%{x}<br>Price Each=%{y}<br>Total Order Amount=%{customdata[0]}<extra></extra>",
         "hovertext": [
          "Large Ice Melt",
          "Large Ice Melt",
          "Large Ice Melt",
          "Large Ice Melt",
          "Large Ice Melt",
          "Large Ice Melt",
          "Large Ice Melt",
          "Large Ice Melt",
          "Large Ice Melt",
          "Large Ice Melt",
          "Large Ice Melt",
          "Large Ice Melt",
          "Large Ice Melt",
          "Large Ice Melt",
          "Large Ice Melt",
          "Large Ice Melt",
          "Large Ice Melt",
          "Large Ice Melt",
          "Large Ice Melt",
          "Large Ice Melt",
          "Large Ice Melt",
          "Large Ice Melt",
          "Large Ice Melt",
          "Large Ice Melt",
          "Large Ice Melt",
          "Large Ice Melt",
          "Large Ice Melt",
          "Large Ice Melt",
          "Large Ice Melt",
          "Large Ice Melt",
          "Large Ice Melt",
          "Large Ice Melt",
          "Large Ice Melt",
          "Large Ice Melt",
          "Large Ice Melt",
          "Large Ice Melt",
          "Large Ice Melt",
          "Large Ice Melt",
          "Large Ice Melt",
          "Large Ice Melt",
          "Large Ice Melt",
          "Large Ice Melt",
          "Large Ice Melt",
          "Large Ice Melt",
          "Large Ice Melt",
          "Large Ice Melt",
          "Large Ice Melt",
          "Large Ice Melt",
          "Large Ice Melt",
          "Large Ice Melt",
          "Large Ice Melt",
          "Large Ice Melt",
          "Large Ice Melt",
          "Large Ice Melt",
          "Large Ice Melt",
          "Large Ice Melt",
          "Large Ice Melt",
          "Large Ice Melt",
          "Large Ice Melt",
          "Large Ice Melt",
          "Large Ice Melt",
          "Large Ice Melt",
          "Large Ice Melt",
          "Large Ice Melt",
          "Large Ice Melt",
          "Large Ice Melt",
          "Large Ice Melt",
          "Large Ice Melt",
          "Large Ice Melt",
          "Large Ice Melt",
          "Large Ice Melt",
          "Large Ice Melt",
          "Large Ice Melt",
          "Large Ice Melt",
          "Large Ice Melt",
          "Large Ice Melt",
          "Large Ice Melt",
          "Large Ice Melt",
          "Large Ice Melt",
          "Large Ice Melt",
          "Large Ice Melt",
          "Large Ice Melt",
          "Large Ice Melt",
          "Large Ice Melt",
          "Large Ice Melt",
          "Large Ice Melt",
          "Large Ice Melt",
          "Large Ice Melt",
          "Large Ice Melt",
          "Large Ice Melt",
          "Large Ice Melt",
          "Large Ice Melt",
          "Large Ice Melt",
          "Large Ice Melt",
          "Large Ice Melt",
          "Large Ice Melt",
          "Large Ice Melt",
          "Large Ice Melt",
          "Large Ice Melt",
          "Large Ice Melt",
          "Large Ice Melt",
          "Large Ice Melt",
          "Large Ice Melt",
          "Large Ice Melt",
          "Large Ice Melt",
          "Large Ice Melt",
          "Large Ice Melt",
          "Large Ice Melt",
          "Large Ice Melt",
          "Large Ice Melt",
          "Large Ice Melt",
          "Large Ice Melt",
          "Large Ice Melt",
          "Large Ice Melt",
          "Large Ice Melt",
          "Large Ice Melt",
          "Large Ice Melt",
          "Large Ice Melt",
          "Large Ice Melt",
          "Large Ice Melt",
          "Large Ice Melt",
          "Large Ice Melt",
          "Large Ice Melt",
          "Large Ice Melt",
          "Large Ice Melt",
          "Large Ice Melt",
          "Large Ice Melt",
          "Large Ice Melt",
          "Large Ice Melt",
          "Large Ice Melt",
          "Large Ice Melt",
          "Large Ice Melt",
          "Large Ice Melt",
          "Large Ice Melt",
          "Large Ice Melt",
          "Large Ice Melt",
          "Large Ice Melt",
          "Large Ice Melt",
          "Large Ice Melt",
          "Large Ice Melt",
          "Large Ice Melt",
          "Large Ice Melt",
          "Large Ice Melt",
          "Large Ice Melt",
          "Large Ice Melt",
          "Large Ice Melt",
          "Large Ice Melt",
          "Large Ice Melt",
          "Large Ice Melt",
          "Large Ice Melt",
          "Large Ice Melt",
          "Large Ice Melt",
          "Large Ice Melt",
          "Large Ice Melt",
          "Large Ice Melt",
          "Large Ice Melt",
          "Large Ice Melt",
          "Large Ice Melt",
          "Large Ice Melt",
          "Large Ice Melt",
          "Large Ice Melt",
          "Large Ice Melt",
          "Large Ice Melt",
          "Large Ice Melt",
          "Large Ice Melt",
          "Large Ice Melt",
          "Large Ice Melt",
          "Large Ice Melt",
          "Large Ice Melt",
          "Large Ice Melt",
          "Large Ice Melt",
          "Large Ice Melt",
          "Large Ice Melt",
          "Large Ice Melt",
          "Large Ice Melt",
          "Large Ice Melt",
          "Large Ice Melt",
          "Large Ice Melt",
          "Large Ice Melt",
          "Large Ice Melt",
          "Large Ice Melt",
          "Large Ice Melt",
          "Large Ice Melt",
          "Large Ice Melt",
          "Large Ice Melt",
          "Large Ice Melt",
          "Large Ice Melt",
          "Large Ice Melt",
          "Large Ice Melt",
          "Large Ice Melt",
          "Large Ice Melt",
          "Large Ice Melt",
          "Large Ice Melt",
          "Large Ice Melt",
          "Large Ice Melt",
          "Large Ice Melt",
          "Large Ice Melt",
          "Large Ice Melt",
          "Large Ice Melt",
          "Large Ice Melt",
          "Large Ice Melt",
          "Large Ice Melt",
          "Large Ice Melt",
          "Large Ice Melt",
          "Large Ice Melt",
          "Large Ice Melt",
          "Large Ice Melt",
          "Large Ice Melt",
          "Large Ice Melt",
          "Large Ice Melt",
          "Large Ice Melt",
          "Large Ice Melt",
          "Large Ice Melt",
          "Large Ice Melt",
          "Large Ice Melt",
          "Large Ice Melt",
          "Large Ice Melt",
          "Large Ice Melt",
          "Large Ice Melt",
          "Large Ice Melt",
          "Large Ice Melt",
          "Large Ice Melt",
          "Large Ice Melt",
          "Large Ice Melt",
          "Large Ice Melt",
          "Large Ice Melt",
          "Large Ice Melt",
          "Large Ice Melt",
          "Large Ice Melt",
          "Large Ice Melt",
          "Large Ice Melt",
          "Large Ice Melt",
          "Large Ice Melt",
          "Large Ice Melt",
          "Large Ice Melt",
          "Large Ice Melt",
          "Large Ice Melt",
          "Large Ice Melt",
          "Large Ice Melt",
          "Large Ice Melt",
          "Large Ice Melt",
          "Large Ice Melt",
          "Large Ice Melt",
          "Large Ice Melt",
          "Large Ice Melt",
          "Large Ice Melt",
          "Large Ice Melt",
          "Large Ice Melt",
          "Large Ice Melt",
          "Large Ice Melt",
          "Large Ice Melt",
          "Large Ice Melt",
          "Large Ice Melt",
          "Large Ice Melt",
          "Large Ice Melt",
          "Large Ice Melt",
          "Large Ice Melt",
          "Large Ice Melt",
          "Large Ice Melt",
          "Large Ice Melt",
          "Large Ice Melt",
          "Large Ice Melt",
          "Large Ice Melt",
          "Large Ice Melt",
          "Large Ice Melt",
          "Large Ice Melt",
          "Large Ice Melt",
          "Large Ice Melt",
          "Large Ice Melt",
          "Large Ice Melt",
          "Large Ice Melt",
          "Large Ice Melt",
          "Large Ice Melt",
          "Large Ice Melt",
          "Large Ice Melt",
          "Large Ice Melt",
          "Large Ice Melt",
          "Large Ice Melt",
          "Large Ice Melt",
          "Large Ice Melt",
          "Large Ice Melt",
          "Large Ice Melt",
          "Large Ice Melt",
          "Large Ice Melt",
          "Large Ice Melt",
          "Large Ice Melt",
          "Large Ice Melt",
          "Large Ice Melt",
          "Large Ice Melt",
          "Large Ice Melt",
          "Large Ice Melt",
          "Large Ice Melt",
          "Large Ice Melt",
          "Large Ice Melt",
          "Large Ice Melt",
          "Large Ice Melt",
          "Large Ice Melt",
          "Large Ice Melt",
          "Large Ice Melt",
          "Large Ice Melt",
          "Large Ice Melt",
          "Large Ice Melt",
          "Large Ice Melt",
          "Large Ice Melt",
          "Large Ice Melt",
          "Large Ice Melt",
          "Large Ice Melt",
          "Large Ice Melt"
         ],
         "legendgroup": "Large Ice Melt",
         "marker": {
          "color": "#00cc96",
          "symbol": "circle"
         },
         "mode": "markers",
         "name": "Large Ice Melt",
         "orientation": "v",
         "showlegend": true,
         "type": "scatter",
         "x": [
          3,
          2,
          5,
          12,
          6,
          8,
          -17,
          1,
          14,
          10,
          20,
          20,
          3,
          8,
          20,
          20,
          12,
          11,
          1,
          9,
          10,
          2,
          20,
          11,
          1,
          9,
          -5,
          6,
          20,
          2,
          14,
          9,
          9,
          15,
          3,
          19,
          17,
          18,
          11,
          2,
          13,
          3,
          11,
          12,
          16,
          1,
          2,
          3,
          5,
          10,
          17,
          17,
          14,
          13,
          9,
          7,
          11,
          1,
          7,
          2,
          18,
          14,
          -15,
          16,
          1,
          15,
          19,
          11,
          3,
          14,
          14,
          -6,
          14,
          19,
          1,
          11,
          19,
          14,
          11,
          6,
          20,
          8,
          2,
          18,
          16,
          10,
          19,
          20,
          12,
          9,
          3,
          -20,
          20,
          14,
          20,
          6,
          14,
          18,
          3,
          11,
          12,
          9,
          20,
          19,
          3,
          13,
          14,
          -6,
          20,
          3,
          -2,
          17,
          1,
          2,
          20,
          5,
          5,
          12,
          1,
          20,
          11,
          -12,
          17,
          20,
          2,
          11,
          1,
          3,
          20,
          18,
          1,
          10,
          20,
          20,
          20,
          20,
          -3,
          20,
          8,
          15,
          5,
          6,
          20,
          2,
          14,
          14,
          20,
          14,
          20,
          7,
          1,
          1,
          13,
          20,
          15,
          18,
          16,
          16,
          12,
          3,
          8,
          2,
          14,
          1,
          20,
          -20,
          3,
          7,
          15,
          12,
          15,
          15,
          -18,
          17,
          8,
          20,
          1,
          20,
          20,
          2,
          1,
          20,
          20,
          20,
          15,
          20,
          10,
          14,
          7,
          13,
          18,
          20,
          20,
          16,
          19,
          20,
          13,
          1,
          9,
          9,
          20,
          -14,
          20,
          20,
          18,
          5,
          9,
          6,
          -3,
          20,
          17,
          20,
          2,
          16,
          20,
          20,
          -17,
          5,
          2,
          14,
          3,
          20,
          20,
          9,
          20,
          5,
          11,
          3,
          20,
          2,
          18,
          -16,
          18,
          20,
          19,
          20,
          20,
          6,
          1,
          2,
          15,
          11,
          20,
          14,
          20,
          1,
          19,
          20,
          3,
          12,
          -6,
          14,
          20,
          5,
          1,
          20,
          20,
          1,
          20,
          6,
          6,
          20,
          10,
          20,
          18,
          10,
          18,
          -2,
          16,
          8,
          16,
          16,
          16,
          3,
          15,
          14,
          15,
          20,
          12,
          2,
          5,
          12,
          1,
          5,
          10,
          5,
          12,
          15,
          3,
          2,
          12,
          13,
          7,
          6,
          10,
          8,
          16,
          17,
          3,
          16,
          13,
          -20,
          -20,
          15,
          20,
          2,
          12,
          14
         ],
         "xaxis": "x",
         "y": [
          27.500000000000004,
          27.500000000000004,
          25,
          20,
          25,
          25,
          25,
          27.500000000000004,
          25,
          20,
          25,
          25,
          27.500000000000004,
          25,
          25,
          20,
          25,
          25,
          27.500000000000004,
          25,
          25,
          27.500000000000004,
          25,
          25,
          27.500000000000004,
          25,
          25,
          25,
          25,
          27.500000000000004,
          25,
          25,
          25,
          25,
          27.500000000000004,
          25,
          25,
          25,
          25,
          27.500000000000004,
          25,
          27.500000000000004,
          25,
          25,
          25,
          27.500000000000004,
          27.500000000000004,
          27.500000000000004,
          25,
          25,
          25,
          25,
          25,
          25,
          25,
          25,
          25,
          27.500000000000004,
          25,
          27.500000000000004,
          25,
          25,
          25,
          25,
          27.500000000000004,
          25,
          25,
          25,
          27.500000000000004,
          25,
          25,
          25,
          25,
          25,
          27.500000000000004,
          25,
          25,
          25,
          25,
          25,
          25,
          25,
          27.500000000000004,
          25,
          25,
          25,
          25,
          25,
          25,
          25,
          27.500000000000004,
          25,
          25,
          25,
          25,
          25,
          25,
          25,
          27.500000000000004,
          25,
          25,
          25,
          20,
          25,
          27.500000000000004,
          25,
          25,
          25,
          20,
          27.500000000000004,
          27.500000000000004,
          25,
          27.500000000000004,
          27.500000000000004,
          20,
          25,
          25,
          25,
          27.500000000000004,
          20,
          25,
          25,
          25,
          25,
          27.500000000000004,
          25,
          27.500000000000004,
          27.500000000000004,
          20,
          25,
          27.500000000000004,
          25,
          20,
          20,
          20,
          20,
          27.500000000000004,
          20,
          25,
          25,
          25,
          25,
          20,
          27.500000000000004,
          25,
          25,
          20,
          25,
          20,
          25,
          27.500000000000004,
          27.500000000000004,
          25,
          20,
          25,
          25,
          25,
          25,
          25,
          27.500000000000004,
          25,
          27.500000000000004,
          25,
          27.500000000000004,
          20,
          20,
          27.500000000000004,
          25,
          25,
          25,
          25,
          25,
          25,
          25,
          25,
          20,
          27.500000000000004,
          25,
          20,
          27.500000000000004,
          27.500000000000004,
          20,
          25,
          25,
          25,
          20,
          25,
          25,
          25,
          25,
          25,
          25,
          20,
          25,
          25,
          20,
          25,
          27.500000000000004,
          25,
          25,
          20,
          25,
          20,
          20,
          25,
          25,
          25,
          25,
          27.500000000000004,
          20,
          25,
          20,
          27.500000000000004,
          25,
          20,
          20,
          25,
          25,
          27.500000000000004,
          25,
          27.500000000000004,
          20,
          20,
          25,
          20,
          25,
          25,
          27.500000000000004,
          20,
          27.500000000000004,
          25,
          25,
          25,
          20,
          25,
          25,
          20,
          25,
          27.500000000000004,
          27.500000000000004,
          25,
          25,
          25,
          25,
          20,
          27.500000000000004,
          25,
          20,
          27.500000000000004,
          25,
          25,
          25,
          20,
          25,
          27.500000000000004,
          20,
          20,
          27.500000000000004,
          20,
          25,
          25,
          20,
          25,
          25,
          20,
          25,
          20,
          27.500000000000004,
          25,
          25,
          20,
          20,
          20,
          27.500000000000004,
          25,
          20,
          25,
          20,
          20,
          27.500000000000004,
          25,
          25,
          27.500000000000004,
          25,
          25,
          25,
          20,
          25,
          27.500000000000004,
          27.500000000000004,
          20,
          25,
          25,
          25,
          20,
          25,
          25,
          25,
          27.500000000000004,
          25,
          25,
          20,
          20,
          25,
          20,
          27.500000000000004,
          25,
          25
         ],
         "yaxis": "y"
        }
       ],
       "layout": {
        "legend": {
         "title": {
          "text": "Product"
         },
         "tracegroupgap": 0
        },
        "template": {
         "data": {
          "bar": [
           {
            "error_x": {
             "color": "#2a3f5f"
            },
            "error_y": {
             "color": "#2a3f5f"
            },
            "marker": {
             "line": {
              "color": "#E5ECF6",
              "width": 0.5
             },
             "pattern": {
              "fillmode": "overlay",
              "size": 10,
              "solidity": 0.2
             }
            },
            "type": "bar"
           }
          ],
          "barpolar": [
           {
            "marker": {
             "line": {
              "color": "#E5ECF6",
              "width": 0.5
             },
             "pattern": {
              "fillmode": "overlay",
              "size": 10,
              "solidity": 0.2
             }
            },
            "type": "barpolar"
           }
          ],
          "carpet": [
           {
            "aaxis": {
             "endlinecolor": "#2a3f5f",
             "gridcolor": "white",
             "linecolor": "white",
             "minorgridcolor": "white",
             "startlinecolor": "#2a3f5f"
            },
            "baxis": {
             "endlinecolor": "#2a3f5f",
             "gridcolor": "white",
             "linecolor": "white",
             "minorgridcolor": "white",
             "startlinecolor": "#2a3f5f"
            },
            "type": "carpet"
           }
          ],
          "choropleth": [
           {
            "colorbar": {
             "outlinewidth": 0,
             "ticks": ""
            },
            "type": "choropleth"
           }
          ],
          "contour": [
           {
            "colorbar": {
             "outlinewidth": 0,
             "ticks": ""
            },
            "colorscale": [
             [
              0,
              "#0d0887"
             ],
             [
              0.1111111111111111,
              "#46039f"
             ],
             [
              0.2222222222222222,
              "#7201a8"
             ],
             [
              0.3333333333333333,
              "#9c179e"
             ],
             [
              0.4444444444444444,
              "#bd3786"
             ],
             [
              0.5555555555555556,
              "#d8576b"
             ],
             [
              0.6666666666666666,
              "#ed7953"
             ],
             [
              0.7777777777777778,
              "#fb9f3a"
             ],
             [
              0.8888888888888888,
              "#fdca26"
             ],
             [
              1,
              "#f0f921"
             ]
            ],
            "type": "contour"
           }
          ],
          "contourcarpet": [
           {
            "colorbar": {
             "outlinewidth": 0,
             "ticks": ""
            },
            "type": "contourcarpet"
           }
          ],
          "heatmap": [
           {
            "colorbar": {
             "outlinewidth": 0,
             "ticks": ""
            },
            "colorscale": [
             [
              0,
              "#0d0887"
             ],
             [
              0.1111111111111111,
              "#46039f"
             ],
             [
              0.2222222222222222,
              "#7201a8"
             ],
             [
              0.3333333333333333,
              "#9c179e"
             ],
             [
              0.4444444444444444,
              "#bd3786"
             ],
             [
              0.5555555555555556,
              "#d8576b"
             ],
             [
              0.6666666666666666,
              "#ed7953"
             ],
             [
              0.7777777777777778,
              "#fb9f3a"
             ],
             [
              0.8888888888888888,
              "#fdca26"
             ],
             [
              1,
              "#f0f921"
             ]
            ],
            "type": "heatmap"
           }
          ],
          "heatmapgl": [
           {
            "colorbar": {
             "outlinewidth": 0,
             "ticks": ""
            },
            "colorscale": [
             [
              0,
              "#0d0887"
             ],
             [
              0.1111111111111111,
              "#46039f"
             ],
             [
              0.2222222222222222,
              "#7201a8"
             ],
             [
              0.3333333333333333,
              "#9c179e"
             ],
             [
              0.4444444444444444,
              "#bd3786"
             ],
             [
              0.5555555555555556,
              "#d8576b"
             ],
             [
              0.6666666666666666,
              "#ed7953"
             ],
             [
              0.7777777777777778,
              "#fb9f3a"
             ],
             [
              0.8888888888888888,
              "#fdca26"
             ],
             [
              1,
              "#f0f921"
             ]
            ],
            "type": "heatmapgl"
           }
          ],
          "histogram": [
           {
            "marker": {
             "pattern": {
              "fillmode": "overlay",
              "size": 10,
              "solidity": 0.2
             }
            },
            "type": "histogram"
           }
          ],
          "histogram2d": [
           {
            "colorbar": {
             "outlinewidth": 0,
             "ticks": ""
            },
            "colorscale": [
             [
              0,
              "#0d0887"
             ],
             [
              0.1111111111111111,
              "#46039f"
             ],
             [
              0.2222222222222222,
              "#7201a8"
             ],
             [
              0.3333333333333333,
              "#9c179e"
             ],
             [
              0.4444444444444444,
              "#bd3786"
             ],
             [
              0.5555555555555556,
              "#d8576b"
             ],
             [
              0.6666666666666666,
              "#ed7953"
             ],
             [
              0.7777777777777778,
              "#fb9f3a"
             ],
             [
              0.8888888888888888,
              "#fdca26"
             ],
             [
              1,
              "#f0f921"
             ]
            ],
            "type": "histogram2d"
           }
          ],
          "histogram2dcontour": [
           {
            "colorbar": {
             "outlinewidth": 0,
             "ticks": ""
            },
            "colorscale": [
             [
              0,
              "#0d0887"
             ],
             [
              0.1111111111111111,
              "#46039f"
             ],
             [
              0.2222222222222222,
              "#7201a8"
             ],
             [
              0.3333333333333333,
              "#9c179e"
             ],
             [
              0.4444444444444444,
              "#bd3786"
             ],
             [
              0.5555555555555556,
              "#d8576b"
             ],
             [
              0.6666666666666666,
              "#ed7953"
             ],
             [
              0.7777777777777778,
              "#fb9f3a"
             ],
             [
              0.8888888888888888,
              "#fdca26"
             ],
             [
              1,
              "#f0f921"
             ]
            ],
            "type": "histogram2dcontour"
           }
          ],
          "mesh3d": [
           {
            "colorbar": {
             "outlinewidth": 0,
             "ticks": ""
            },
            "type": "mesh3d"
           }
          ],
          "parcoords": [
           {
            "line": {
             "colorbar": {
              "outlinewidth": 0,
              "ticks": ""
             }
            },
            "type": "parcoords"
           }
          ],
          "pie": [
           {
            "automargin": true,
            "type": "pie"
           }
          ],
          "scatter": [
           {
            "marker": {
             "colorbar": {
              "outlinewidth": 0,
              "ticks": ""
             }
            },
            "type": "scatter"
           }
          ],
          "scatter3d": [
           {
            "line": {
             "colorbar": {
              "outlinewidth": 0,
              "ticks": ""
             }
            },
            "marker": {
             "colorbar": {
              "outlinewidth": 0,
              "ticks": ""
             }
            },
            "type": "scatter3d"
           }
          ],
          "scattercarpet": [
           {
            "marker": {
             "colorbar": {
              "outlinewidth": 0,
              "ticks": ""
             }
            },
            "type": "scattercarpet"
           }
          ],
          "scattergeo": [
           {
            "marker": {
             "colorbar": {
              "outlinewidth": 0,
              "ticks": ""
             }
            },
            "type": "scattergeo"
           }
          ],
          "scattergl": [
           {
            "marker": {
             "colorbar": {
              "outlinewidth": 0,
              "ticks": ""
             }
            },
            "type": "scattergl"
           }
          ],
          "scattermapbox": [
           {
            "marker": {
             "colorbar": {
              "outlinewidth": 0,
              "ticks": ""
             }
            },
            "type": "scattermapbox"
           }
          ],
          "scatterpolar": [
           {
            "marker": {
             "colorbar": {
              "outlinewidth": 0,
              "ticks": ""
             }
            },
            "type": "scatterpolar"
           }
          ],
          "scatterpolargl": [
           {
            "marker": {
             "colorbar": {
              "outlinewidth": 0,
              "ticks": ""
             }
            },
            "type": "scatterpolargl"
           }
          ],
          "scatterternary": [
           {
            "marker": {
             "colorbar": {
              "outlinewidth": 0,
              "ticks": ""
             }
            },
            "type": "scatterternary"
           }
          ],
          "surface": [
           {
            "colorbar": {
             "outlinewidth": 0,
             "ticks": ""
            },
            "colorscale": [
             [
              0,
              "#0d0887"
             ],
             [
              0.1111111111111111,
              "#46039f"
             ],
             [
              0.2222222222222222,
              "#7201a8"
             ],
             [
              0.3333333333333333,
              "#9c179e"
             ],
             [
              0.4444444444444444,
              "#bd3786"
             ],
             [
              0.5555555555555556,
              "#d8576b"
             ],
             [
              0.6666666666666666,
              "#ed7953"
             ],
             [
              0.7777777777777778,
              "#fb9f3a"
             ],
             [
              0.8888888888888888,
              "#fdca26"
             ],
             [
              1,
              "#f0f921"
             ]
            ],
            "type": "surface"
           }
          ],
          "table": [
           {
            "cells": {
             "fill": {
              "color": "#EBF0F8"
             },
             "line": {
              "color": "white"
             }
            },
            "header": {
             "fill": {
              "color": "#C8D4E3"
             },
             "line": {
              "color": "white"
             }
            },
            "type": "table"
           }
          ]
         },
         "layout": {
          "annotationdefaults": {
           "arrowcolor": "#2a3f5f",
           "arrowhead": 0,
           "arrowwidth": 1
          },
          "autotypenumbers": "strict",
          "coloraxis": {
           "colorbar": {
            "outlinewidth": 0,
            "ticks": ""
           }
          },
          "colorscale": {
           "diverging": [
            [
             0,
             "#8e0152"
            ],
            [
             0.1,
             "#c51b7d"
            ],
            [
             0.2,
             "#de77ae"
            ],
            [
             0.3,
             "#f1b6da"
            ],
            [
             0.4,
             "#fde0ef"
            ],
            [
             0.5,
             "#f7f7f7"
            ],
            [
             0.6,
             "#e6f5d0"
            ],
            [
             0.7,
             "#b8e186"
            ],
            [
             0.8,
             "#7fbc41"
            ],
            [
             0.9,
             "#4d9221"
            ],
            [
             1,
             "#276419"
            ]
           ],
           "sequential": [
            [
             0,
             "#0d0887"
            ],
            [
             0.1111111111111111,
             "#46039f"
            ],
            [
             0.2222222222222222,
             "#7201a8"
            ],
            [
             0.3333333333333333,
             "#9c179e"
            ],
            [
             0.4444444444444444,
             "#bd3786"
            ],
            [
             0.5555555555555556,
             "#d8576b"
            ],
            [
             0.6666666666666666,
             "#ed7953"
            ],
            [
             0.7777777777777778,
             "#fb9f3a"
            ],
            [
             0.8888888888888888,
             "#fdca26"
            ],
            [
             1,
             "#f0f921"
            ]
           ],
           "sequentialminus": [
            [
             0,
             "#0d0887"
            ],
            [
             0.1111111111111111,
             "#46039f"
            ],
            [
             0.2222222222222222,
             "#7201a8"
            ],
            [
             0.3333333333333333,
             "#9c179e"
            ],
            [
             0.4444444444444444,
             "#bd3786"
            ],
            [
             0.5555555555555556,
             "#d8576b"
            ],
            [
             0.6666666666666666,
             "#ed7953"
            ],
            [
             0.7777777777777778,
             "#fb9f3a"
            ],
            [
             0.8888888888888888,
             "#fdca26"
            ],
            [
             1,
             "#f0f921"
            ]
           ]
          },
          "colorway": [
           "#636efa",
           "#EF553B",
           "#00cc96",
           "#ab63fa",
           "#FFA15A",
           "#19d3f3",
           "#FF6692",
           "#B6E880",
           "#FF97FF",
           "#FECB52"
          ],
          "font": {
           "color": "#2a3f5f"
          },
          "geo": {
           "bgcolor": "white",
           "lakecolor": "white",
           "landcolor": "#E5ECF6",
           "showlakes": true,
           "showland": true,
           "subunitcolor": "white"
          },
          "hoverlabel": {
           "align": "left"
          },
          "hovermode": "closest",
          "mapbox": {
           "style": "light"
          },
          "paper_bgcolor": "white",
          "plot_bgcolor": "#E5ECF6",
          "polar": {
           "angularaxis": {
            "gridcolor": "white",
            "linecolor": "white",
            "ticks": ""
           },
           "bgcolor": "#E5ECF6",
           "radialaxis": {
            "gridcolor": "white",
            "linecolor": "white",
            "ticks": ""
           }
          },
          "scene": {
           "xaxis": {
            "backgroundcolor": "#E5ECF6",
            "gridcolor": "white",
            "gridwidth": 2,
            "linecolor": "white",
            "showbackground": true,
            "ticks": "",
            "zerolinecolor": "white"
           },
           "yaxis": {
            "backgroundcolor": "#E5ECF6",
            "gridcolor": "white",
            "gridwidth": 2,
            "linecolor": "white",
            "showbackground": true,
            "ticks": "",
            "zerolinecolor": "white"
           },
           "zaxis": {
            "backgroundcolor": "#E5ECF6",
            "gridcolor": "white",
            "gridwidth": 2,
            "linecolor": "white",
            "showbackground": true,
            "ticks": "",
            "zerolinecolor": "white"
           }
          },
          "shapedefaults": {
           "line": {
            "color": "#2a3f5f"
           }
          },
          "ternary": {
           "aaxis": {
            "gridcolor": "white",
            "linecolor": "white",
            "ticks": ""
           },
           "baxis": {
            "gridcolor": "white",
            "linecolor": "white",
            "ticks": ""
           },
           "bgcolor": "#E5ECF6",
           "caxis": {
            "gridcolor": "white",
            "linecolor": "white",
            "ticks": ""
           }
          },
          "title": {
           "x": 0.05
          },
          "xaxis": {
           "automargin": true,
           "gridcolor": "white",
           "linecolor": "white",
           "ticks": "",
           "title": {
            "standoff": 15
           },
           "zerolinecolor": "white",
           "zerolinewidth": 2
          },
          "yaxis": {
           "automargin": true,
           "gridcolor": "white",
           "linecolor": "white",
           "ticks": "",
           "title": {
            "standoff": 15
           },
           "zerolinecolor": "white",
           "zerolinewidth": 2
          }
         }
        },
        "title": {
         "text": "Volume Discounts Across All Products"
        },
        "xaxis": {
         "anchor": "y",
         "domain": [
          0,
          1
         ],
         "title": {
          "text": "Qty Ordered"
         }
        },
        "yaxis": {
         "anchor": "x",
         "domain": [
          0,
          1
         ],
         "title": {
          "text": "Price Each"
         }
        }
       }
      }
     },
     "metadata": {},
     "output_type": "display_data"
    }
   ],
   "source": [
    "fig = px.scatter(df, x='Qty Ordered', y='Price Each', color='Product', title='Volume Discounts Across All Products', \n",
    "                 hover_name='Product', hover_data=['Total Order Amount'])\n",
    "fig.show()"
   ]
  },
  {
   "cell_type": "markdown",
   "id": "c7a49cef",
   "metadata": {
    "papermill": {
     "duration": 0.01349,
     "end_time": "2023-08-25T16:38:58.182161",
     "exception": false,
     "start_time": "2023-08-25T16:38:58.168671",
     "status": "completed"
    },
    "tags": []
   },
   "source": [
    "# Volume Discounts Analysis Across Products\n",
    "\n",
    "The data suggests that as the volume (quantity ordered) increases, the unit price for each product decreases. This indicates the application of volume discounts.\n",
    "\n",
    "## Observations\n",
    "\n",
    "From the visualization, it's evident that there are additional discounts applied to purchases, beyond just the volume order discounts. One potential explanation for this could be the form of payment used by customers. \n"
   ]
  },
  {
   "cell_type": "code",
   "execution_count": 94,
   "id": "fe222a20",
   "metadata": {
    "execution": {
     "iopub.execute_input": "2023-08-25T16:38:58.210516Z",
     "iopub.status.busy": "2023-08-25T16:38:58.210129Z",
     "iopub.status.idle": "2023-08-25T16:38:58.421701Z",
     "shell.execute_reply": "2023-08-25T16:38:58.420764Z"
    },
    "papermill": {
     "duration": 0.228852,
     "end_time": "2023-08-25T16:38:58.424196",
     "exception": false,
     "start_time": "2023-08-25T16:38:58.195344",
     "status": "completed"
    },
    "tags": []
   },
   "outputs": [
    {
     "data": {
      "application/vnd.plotly.v1+json": {
       "config": {
        "plotlyServerURL": "https://plot.ly"
       },
       "data": [
        {
         "hovertemplate": "Product=Large Ice Melt<br>Payment Type=Account<br>Qty Ordered=%{x}<br>Average Price Each=%{y}<extra></extra>",
         "legendgroup": "Large Ice Melt",
         "marker": {
          "color": "#636efa",
          "symbol": "circle"
         },
         "mode": "markers",
         "name": "Large Ice Melt",
         "orientation": "v",
         "showlegend": true,
         "type": "scatter",
         "x": [
          -20,
          10,
          12,
          14,
          16,
          18,
          20
         ],
         "xaxis": "x",
         "y": [
          20,
          20,
          20,
          20,
          20,
          20,
          20
         ],
         "yaxis": "y"
        },
        {
         "hovertemplate": "Product=Large Ice Melt<br>Payment Type=Cash<br>Qty Ordered=%{x}<br>Average Price Each=%{y}<extra></extra>",
         "legendgroup": "Large Ice Melt",
         "marker": {
          "color": "#636efa",
          "symbol": "circle"
         },
         "mode": "markers",
         "name": "Large Ice Melt",
         "orientation": "v",
         "showlegend": false,
         "type": "scatter",
         "x": [
          -3,
          -2,
          1,
          2,
          3
         ],
         "xaxis": "x2",
         "y": [
          27.500000000000004,
          27.500000000000004,
          27.500000000000004,
          27.500000000000007,
          27.500000000000007
         ],
         "yaxis": "y2"
        },
        {
         "hovertemplate": "Product=Large Ice Melt<br>Payment Type=Check<br>Qty Ordered=%{x}<br>Average Price Each=%{y}<extra></extra>",
         "legendgroup": "Large Ice Melt",
         "marker": {
          "color": "#636efa",
          "symbol": "circle"
         },
         "mode": "markers",
         "name": "Large Ice Melt",
         "orientation": "v",
         "showlegend": false,
         "type": "scatter",
         "x": [
          -20,
          -18,
          -17,
          -15,
          5,
          6,
          7,
          8,
          9,
          10,
          11,
          12,
          13,
          14,
          15,
          16,
          17,
          18,
          19,
          20
         ],
         "xaxis": "x3",
         "y": [
          25,
          25,
          25,
          25,
          25,
          25,
          25,
          25,
          25,
          25,
          25,
          25,
          25,
          25,
          25,
          25,
          25,
          25,
          25,
          25
         ],
         "yaxis": "y3"
        },
        {
         "hovertemplate": "Product=Large Ice Melt<br>Payment Type=Credit Card<br>Qty Ordered=%{x}<br>Average Price Each=%{y}<extra></extra>",
         "legendgroup": "Large Ice Melt",
         "marker": {
          "color": "#636efa",
          "symbol": "circle"
         },
         "mode": "markers",
         "name": "Large Ice Melt",
         "orientation": "v",
         "showlegend": false,
         "type": "scatter",
         "x": [
          -17,
          -16,
          -14,
          -12,
          -6,
          5,
          6,
          7,
          8,
          9,
          11,
          12,
          13,
          14,
          15,
          16,
          17,
          18,
          19,
          20
         ],
         "xaxis": "x4",
         "y": [
          25,
          25,
          25,
          25,
          25,
          25,
          25,
          25,
          25,
          25,
          25,
          25,
          25,
          25,
          25,
          25,
          25,
          25,
          25,
          25
         ],
         "yaxis": "y4"
        },
        {
         "hovertemplate": "Product=Large Ice Melt<br>Payment Type=Debit<br>Qty Ordered=%{x}<br>Average Price Each=%{y}<extra></extra>",
         "legendgroup": "Large Ice Melt",
         "marker": {
          "color": "#636efa",
          "symbol": "circle"
         },
         "mode": "markers",
         "name": "Large Ice Melt",
         "orientation": "v",
         "showlegend": false,
         "type": "scatter",
         "x": [
          -6,
          -5,
          5,
          6,
          7,
          8,
          9,
          10,
          11,
          12,
          13,
          14,
          15,
          16,
          17,
          18,
          19,
          20
         ],
         "xaxis": "x5",
         "y": [
          25,
          25,
          25,
          25,
          25,
          25,
          25,
          25,
          25,
          25,
          25,
          25,
          25,
          25,
          25,
          25,
          25,
          25
         ],
         "yaxis": "y5"
        },
        {
         "hovertemplate": "Product=Medium Ice Melt<br>Payment Type=Account<br>Qty Ordered=%{x}<br>Average Price Each=%{y}<extra></extra>",
         "legendgroup": "Medium Ice Melt",
         "marker": {
          "color": "#EF553B",
          "symbol": "circle"
         },
         "mode": "markers",
         "name": "Medium Ice Melt",
         "orientation": "v",
         "showlegend": true,
         "type": "scatter",
         "x": [
          -20,
          -18,
          10,
          12,
          14,
          16,
          18,
          20
         ],
         "xaxis": "x",
         "y": [
          16,
          16,
          16,
          16,
          16,
          16,
          16,
          16
         ],
         "yaxis": "y"
        },
        {
         "hovertemplate": "Product=Medium Ice Melt<br>Payment Type=Cash<br>Qty Ordered=%{x}<br>Average Price Each=%{y}<extra></extra>",
         "legendgroup": "Medium Ice Melt",
         "marker": {
          "color": "#EF553B",
          "symbol": "circle"
         },
         "mode": "markers",
         "name": "Medium Ice Melt",
         "orientation": "v",
         "showlegend": false,
         "type": "scatter",
         "x": [
          -3,
          -2,
          -1,
          1,
          2,
          3
         ],
         "xaxis": "x2",
         "y": [
          22,
          22,
          22,
          22,
          22,
          22
         ],
         "yaxis": "y2"
        },
        {
         "hovertemplate": "Product=Medium Ice Melt<br>Payment Type=Check<br>Qty Ordered=%{x}<br>Average Price Each=%{y}<extra></extra>",
         "legendgroup": "Medium Ice Melt",
         "marker": {
          "color": "#EF553B",
          "symbol": "circle"
         },
         "mode": "markers",
         "name": "Medium Ice Melt",
         "orientation": "v",
         "showlegend": false,
         "type": "scatter",
         "x": [
          -20,
          -15,
          -11,
          5,
          6,
          7,
          8,
          9,
          10,
          11,
          12,
          13,
          14,
          15,
          16,
          17,
          18,
          19
         ],
         "xaxis": "x3",
         "y": [
          20,
          20,
          20,
          20,
          20,
          20,
          20,
          20,
          20,
          20,
          20,
          20,
          20,
          20,
          20,
          20,
          20,
          20
         ],
         "yaxis": "y3"
        },
        {
         "hovertemplate": "Product=Medium Ice Melt<br>Payment Type=Credit Card<br>Qty Ordered=%{x}<br>Average Price Each=%{y}<extra></extra>",
         "legendgroup": "Medium Ice Melt",
         "marker": {
          "color": "#EF553B",
          "symbol": "circle"
         },
         "mode": "markers",
         "name": "Medium Ice Melt",
         "orientation": "v",
         "showlegend": false,
         "type": "scatter",
         "x": [
          -20,
          5,
          6,
          7,
          8,
          9,
          10,
          11,
          12,
          13,
          14,
          15,
          16,
          17,
          18,
          19,
          20
         ],
         "xaxis": "x4",
         "y": [
          20,
          20,
          20,
          20,
          20,
          20,
          20,
          20,
          20,
          20,
          20,
          20,
          20,
          20,
          20,
          20,
          20
         ],
         "yaxis": "y4"
        },
        {
         "hovertemplate": "Product=Medium Ice Melt<br>Payment Type=Debit<br>Qty Ordered=%{x}<br>Average Price Each=%{y}<extra></extra>",
         "legendgroup": "Medium Ice Melt",
         "marker": {
          "color": "#EF553B",
          "symbol": "circle"
         },
         "mode": "markers",
         "name": "Medium Ice Melt",
         "orientation": "v",
         "showlegend": false,
         "type": "scatter",
         "x": [
          -19,
          -5,
          5,
          6,
          7,
          8,
          9,
          10,
          11,
          12,
          13,
          14,
          15,
          16,
          17,
          18,
          19,
          20
         ],
         "xaxis": "x5",
         "y": [
          20,
          20,
          20,
          20,
          20,
          20,
          20,
          20,
          20,
          20,
          20,
          20,
          20,
          20,
          20,
          20,
          20,
          20
         ],
         "yaxis": "y5"
        },
        {
         "hovertemplate": "Product=Small Ice Melt<br>Payment Type=Account<br>Qty Ordered=%{x}<br>Average Price Each=%{y}<extra></extra>",
         "legendgroup": "Small Ice Melt",
         "marker": {
          "color": "#00cc96",
          "symbol": "circle"
         },
         "mode": "markers",
         "name": "Small Ice Melt",
         "orientation": "v",
         "showlegend": true,
         "type": "scatter",
         "x": [
          -20,
          10,
          12,
          14,
          16,
          18,
          20
         ],
         "xaxis": "x",
         "y": [
          8,
          8,
          8,
          8,
          8,
          8,
          8
         ],
         "yaxis": "y"
        },
        {
         "hovertemplate": "Product=Small Ice Melt<br>Payment Type=Cash<br>Qty Ordered=%{x}<br>Average Price Each=%{y}<extra></extra>",
         "legendgroup": "Small Ice Melt",
         "marker": {
          "color": "#00cc96",
          "symbol": "circle"
         },
         "mode": "markers",
         "name": "Small Ice Melt",
         "orientation": "v",
         "showlegend": false,
         "type": "scatter",
         "x": [
          -3,
          1,
          2,
          3
         ],
         "xaxis": "x2",
         "y": [
          11,
          11,
          11,
          11
         ],
         "yaxis": "y2"
        },
        {
         "hovertemplate": "Product=Small Ice Melt<br>Payment Type=Check<br>Qty Ordered=%{x}<br>Average Price Each=%{y}<extra></extra>",
         "legendgroup": "Small Ice Melt",
         "marker": {
          "color": "#00cc96",
          "symbol": "circle"
         },
         "mode": "markers",
         "name": "Small Ice Melt",
         "orientation": "v",
         "showlegend": false,
         "type": "scatter",
         "x": [
          -19,
          -13,
          -11,
          -9,
          5,
          6,
          7,
          8,
          9,
          10,
          11,
          12,
          13,
          14,
          15,
          16,
          17,
          18,
          19,
          20
         ],
         "xaxis": "x3",
         "y": [
          10,
          10,
          10,
          10,
          10,
          10,
          10,
          10,
          10,
          10,
          10,
          10,
          10,
          10,
          10,
          10,
          10,
          10,
          10,
          10
         ],
         "yaxis": "y3"
        },
        {
         "hovertemplate": "Product=Small Ice Melt<br>Payment Type=Credit Card<br>Qty Ordered=%{x}<br>Average Price Each=%{y}<extra></extra>",
         "legendgroup": "Small Ice Melt",
         "marker": {
          "color": "#00cc96",
          "symbol": "circle"
         },
         "mode": "markers",
         "name": "Small Ice Melt",
         "orientation": "v",
         "showlegend": false,
         "type": "scatter",
         "x": [
          -18,
          -8,
          -7,
          -6,
          5,
          6,
          7,
          8,
          9,
          10,
          11,
          12,
          13,
          14,
          15,
          16,
          17,
          18,
          19,
          20
         ],
         "xaxis": "x4",
         "y": [
          10,
          10,
          10,
          10,
          10,
          10,
          10,
          10,
          10,
          10,
          10,
          10,
          10,
          10,
          10,
          10,
          10,
          10,
          10,
          10
         ],
         "yaxis": "y4"
        },
        {
         "hovertemplate": "Product=Small Ice Melt<br>Payment Type=Debit<br>Qty Ordered=%{x}<br>Average Price Each=%{y}<extra></extra>",
         "legendgroup": "Small Ice Melt",
         "marker": {
          "color": "#00cc96",
          "symbol": "circle"
         },
         "mode": "markers",
         "name": "Small Ice Melt",
         "orientation": "v",
         "showlegend": false,
         "type": "scatter",
         "x": [
          -15,
          5,
          6,
          7,
          8,
          9,
          10,
          11,
          12,
          13,
          14,
          16,
          17,
          18,
          19,
          20
         ],
         "xaxis": "x5",
         "y": [
          10,
          10,
          10,
          10,
          10,
          10,
          10,
          10,
          10,
          10,
          10,
          10,
          10,
          10,
          10,
          10
         ],
         "yaxis": "y5"
        }
       ],
       "layout": {
        "annotations": [
         {
          "font": {},
          "showarrow": false,
          "text": "Payment Type=Account",
          "x": 0.09200000000000001,
          "xanchor": "center",
          "xref": "paper",
          "y": 1,
          "yanchor": "bottom",
          "yref": "paper"
         },
         {
          "font": {},
          "showarrow": false,
          "text": "Payment Type=Cash",
          "x": 0.29600000000000004,
          "xanchor": "center",
          "xref": "paper",
          "y": 1,
          "yanchor": "bottom",
          "yref": "paper"
         },
         {
          "font": {},
          "showarrow": false,
          "text": "Payment Type=Check",
          "x": 0.5,
          "xanchor": "center",
          "xref": "paper",
          "y": 1,
          "yanchor": "bottom",
          "yref": "paper"
         },
         {
          "font": {},
          "showarrow": false,
          "text": "Payment Type=Credit Card",
          "x": 0.7040000000000002,
          "xanchor": "center",
          "xref": "paper",
          "y": 1,
          "yanchor": "bottom",
          "yref": "paper"
         },
         {
          "font": {},
          "showarrow": false,
          "text": "Payment Type=Debit",
          "x": 0.908,
          "xanchor": "center",
          "xref": "paper",
          "y": 1,
          "yanchor": "bottom",
          "yref": "paper"
         }
        ],
        "legend": {
         "title": {
          "text": "Product"
         },
         "tracegroupgap": 0
        },
        "template": {
         "data": {
          "bar": [
           {
            "error_x": {
             "color": "#2a3f5f"
            },
            "error_y": {
             "color": "#2a3f5f"
            },
            "marker": {
             "line": {
              "color": "#E5ECF6",
              "width": 0.5
             },
             "pattern": {
              "fillmode": "overlay",
              "size": 10,
              "solidity": 0.2
             }
            },
            "type": "bar"
           }
          ],
          "barpolar": [
           {
            "marker": {
             "line": {
              "color": "#E5ECF6",
              "width": 0.5
             },
             "pattern": {
              "fillmode": "overlay",
              "size": 10,
              "solidity": 0.2
             }
            },
            "type": "barpolar"
           }
          ],
          "carpet": [
           {
            "aaxis": {
             "endlinecolor": "#2a3f5f",
             "gridcolor": "white",
             "linecolor": "white",
             "minorgridcolor": "white",
             "startlinecolor": "#2a3f5f"
            },
            "baxis": {
             "endlinecolor": "#2a3f5f",
             "gridcolor": "white",
             "linecolor": "white",
             "minorgridcolor": "white",
             "startlinecolor": "#2a3f5f"
            },
            "type": "carpet"
           }
          ],
          "choropleth": [
           {
            "colorbar": {
             "outlinewidth": 0,
             "ticks": ""
            },
            "type": "choropleth"
           }
          ],
          "contour": [
           {
            "colorbar": {
             "outlinewidth": 0,
             "ticks": ""
            },
            "colorscale": [
             [
              0,
              "#0d0887"
             ],
             [
              0.1111111111111111,
              "#46039f"
             ],
             [
              0.2222222222222222,
              "#7201a8"
             ],
             [
              0.3333333333333333,
              "#9c179e"
             ],
             [
              0.4444444444444444,
              "#bd3786"
             ],
             [
              0.5555555555555556,
              "#d8576b"
             ],
             [
              0.6666666666666666,
              "#ed7953"
             ],
             [
              0.7777777777777778,
              "#fb9f3a"
             ],
             [
              0.8888888888888888,
              "#fdca26"
             ],
             [
              1,
              "#f0f921"
             ]
            ],
            "type": "contour"
           }
          ],
          "contourcarpet": [
           {
            "colorbar": {
             "outlinewidth": 0,
             "ticks": ""
            },
            "type": "contourcarpet"
           }
          ],
          "heatmap": [
           {
            "colorbar": {
             "outlinewidth": 0,
             "ticks": ""
            },
            "colorscale": [
             [
              0,
              "#0d0887"
             ],
             [
              0.1111111111111111,
              "#46039f"
             ],
             [
              0.2222222222222222,
              "#7201a8"
             ],
             [
              0.3333333333333333,
              "#9c179e"
             ],
             [
              0.4444444444444444,
              "#bd3786"
             ],
             [
              0.5555555555555556,
              "#d8576b"
             ],
             [
              0.6666666666666666,
              "#ed7953"
             ],
             [
              0.7777777777777778,
              "#fb9f3a"
             ],
             [
              0.8888888888888888,
              "#fdca26"
             ],
             [
              1,
              "#f0f921"
             ]
            ],
            "type": "heatmap"
           }
          ],
          "heatmapgl": [
           {
            "colorbar": {
             "outlinewidth": 0,
             "ticks": ""
            },
            "colorscale": [
             [
              0,
              "#0d0887"
             ],
             [
              0.1111111111111111,
              "#46039f"
             ],
             [
              0.2222222222222222,
              "#7201a8"
             ],
             [
              0.3333333333333333,
              "#9c179e"
             ],
             [
              0.4444444444444444,
              "#bd3786"
             ],
             [
              0.5555555555555556,
              "#d8576b"
             ],
             [
              0.6666666666666666,
              "#ed7953"
             ],
             [
              0.7777777777777778,
              "#fb9f3a"
             ],
             [
              0.8888888888888888,
              "#fdca26"
             ],
             [
              1,
              "#f0f921"
             ]
            ],
            "type": "heatmapgl"
           }
          ],
          "histogram": [
           {
            "marker": {
             "pattern": {
              "fillmode": "overlay",
              "size": 10,
              "solidity": 0.2
             }
            },
            "type": "histogram"
           }
          ],
          "histogram2d": [
           {
            "colorbar": {
             "outlinewidth": 0,
             "ticks": ""
            },
            "colorscale": [
             [
              0,
              "#0d0887"
             ],
             [
              0.1111111111111111,
              "#46039f"
             ],
             [
              0.2222222222222222,
              "#7201a8"
             ],
             [
              0.3333333333333333,
              "#9c179e"
             ],
             [
              0.4444444444444444,
              "#bd3786"
             ],
             [
              0.5555555555555556,
              "#d8576b"
             ],
             [
              0.6666666666666666,
              "#ed7953"
             ],
             [
              0.7777777777777778,
              "#fb9f3a"
             ],
             [
              0.8888888888888888,
              "#fdca26"
             ],
             [
              1,
              "#f0f921"
             ]
            ],
            "type": "histogram2d"
           }
          ],
          "histogram2dcontour": [
           {
            "colorbar": {
             "outlinewidth": 0,
             "ticks": ""
            },
            "colorscale": [
             [
              0,
              "#0d0887"
             ],
             [
              0.1111111111111111,
              "#46039f"
             ],
             [
              0.2222222222222222,
              "#7201a8"
             ],
             [
              0.3333333333333333,
              "#9c179e"
             ],
             [
              0.4444444444444444,
              "#bd3786"
             ],
             [
              0.5555555555555556,
              "#d8576b"
             ],
             [
              0.6666666666666666,
              "#ed7953"
             ],
             [
              0.7777777777777778,
              "#fb9f3a"
             ],
             [
              0.8888888888888888,
              "#fdca26"
             ],
             [
              1,
              "#f0f921"
             ]
            ],
            "type": "histogram2dcontour"
           }
          ],
          "mesh3d": [
           {
            "colorbar": {
             "outlinewidth": 0,
             "ticks": ""
            },
            "type": "mesh3d"
           }
          ],
          "parcoords": [
           {
            "line": {
             "colorbar": {
              "outlinewidth": 0,
              "ticks": ""
             }
            },
            "type": "parcoords"
           }
          ],
          "pie": [
           {
            "automargin": true,
            "type": "pie"
           }
          ],
          "scatter": [
           {
            "marker": {
             "colorbar": {
              "outlinewidth": 0,
              "ticks": ""
             }
            },
            "type": "scatter"
           }
          ],
          "scatter3d": [
           {
            "line": {
             "colorbar": {
              "outlinewidth": 0,
              "ticks": ""
             }
            },
            "marker": {
             "colorbar": {
              "outlinewidth": 0,
              "ticks": ""
             }
            },
            "type": "scatter3d"
           }
          ],
          "scattercarpet": [
           {
            "marker": {
             "colorbar": {
              "outlinewidth": 0,
              "ticks": ""
             }
            },
            "type": "scattercarpet"
           }
          ],
          "scattergeo": [
           {
            "marker": {
             "colorbar": {
              "outlinewidth": 0,
              "ticks": ""
             }
            },
            "type": "scattergeo"
           }
          ],
          "scattergl": [
           {
            "marker": {
             "colorbar": {
              "outlinewidth": 0,
              "ticks": ""
             }
            },
            "type": "scattergl"
           }
          ],
          "scattermapbox": [
           {
            "marker": {
             "colorbar": {
              "outlinewidth": 0,
              "ticks": ""
             }
            },
            "type": "scattermapbox"
           }
          ],
          "scatterpolar": [
           {
            "marker": {
             "colorbar": {
              "outlinewidth": 0,
              "ticks": ""
             }
            },
            "type": "scatterpolar"
           }
          ],
          "scatterpolargl": [
           {
            "marker": {
             "colorbar": {
              "outlinewidth": 0,
              "ticks": ""
             }
            },
            "type": "scatterpolargl"
           }
          ],
          "scatterternary": [
           {
            "marker": {
             "colorbar": {
              "outlinewidth": 0,
              "ticks": ""
             }
            },
            "type": "scatterternary"
           }
          ],
          "surface": [
           {
            "colorbar": {
             "outlinewidth": 0,
             "ticks": ""
            },
            "colorscale": [
             [
              0,
              "#0d0887"
             ],
             [
              0.1111111111111111,
              "#46039f"
             ],
             [
              0.2222222222222222,
              "#7201a8"
             ],
             [
              0.3333333333333333,
              "#9c179e"
             ],
             [
              0.4444444444444444,
              "#bd3786"
             ],
             [
              0.5555555555555556,
              "#d8576b"
             ],
             [
              0.6666666666666666,
              "#ed7953"
             ],
             [
              0.7777777777777778,
              "#fb9f3a"
             ],
             [
              0.8888888888888888,
              "#fdca26"
             ],
             [
              1,
              "#f0f921"
             ]
            ],
            "type": "surface"
           }
          ],
          "table": [
           {
            "cells": {
             "fill": {
              "color": "#EBF0F8"
             },
             "line": {
              "color": "white"
             }
            },
            "header": {
             "fill": {
              "color": "#C8D4E3"
             },
             "line": {
              "color": "white"
             }
            },
            "type": "table"
           }
          ]
         },
         "layout": {
          "annotationdefaults": {
           "arrowcolor": "#2a3f5f",
           "arrowhead": 0,
           "arrowwidth": 1
          },
          "autotypenumbers": "strict",
          "coloraxis": {
           "colorbar": {
            "outlinewidth": 0,
            "ticks": ""
           }
          },
          "colorscale": {
           "diverging": [
            [
             0,
             "#8e0152"
            ],
            [
             0.1,
             "#c51b7d"
            ],
            [
             0.2,
             "#de77ae"
            ],
            [
             0.3,
             "#f1b6da"
            ],
            [
             0.4,
             "#fde0ef"
            ],
            [
             0.5,
             "#f7f7f7"
            ],
            [
             0.6,
             "#e6f5d0"
            ],
            [
             0.7,
             "#b8e186"
            ],
            [
             0.8,
             "#7fbc41"
            ],
            [
             0.9,
             "#4d9221"
            ],
            [
             1,
             "#276419"
            ]
           ],
           "sequential": [
            [
             0,
             "#0d0887"
            ],
            [
             0.1111111111111111,
             "#46039f"
            ],
            [
             0.2222222222222222,
             "#7201a8"
            ],
            [
             0.3333333333333333,
             "#9c179e"
            ],
            [
             0.4444444444444444,
             "#bd3786"
            ],
            [
             0.5555555555555556,
             "#d8576b"
            ],
            [
             0.6666666666666666,
             "#ed7953"
            ],
            [
             0.7777777777777778,
             "#fb9f3a"
            ],
            [
             0.8888888888888888,
             "#fdca26"
            ],
            [
             1,
             "#f0f921"
            ]
           ],
           "sequentialminus": [
            [
             0,
             "#0d0887"
            ],
            [
             0.1111111111111111,
             "#46039f"
            ],
            [
             0.2222222222222222,
             "#7201a8"
            ],
            [
             0.3333333333333333,
             "#9c179e"
            ],
            [
             0.4444444444444444,
             "#bd3786"
            ],
            [
             0.5555555555555556,
             "#d8576b"
            ],
            [
             0.6666666666666666,
             "#ed7953"
            ],
            [
             0.7777777777777778,
             "#fb9f3a"
            ],
            [
             0.8888888888888888,
             "#fdca26"
            ],
            [
             1,
             "#f0f921"
            ]
           ]
          },
          "colorway": [
           "#636efa",
           "#EF553B",
           "#00cc96",
           "#ab63fa",
           "#FFA15A",
           "#19d3f3",
           "#FF6692",
           "#B6E880",
           "#FF97FF",
           "#FECB52"
          ],
          "font": {
           "color": "#2a3f5f"
          },
          "geo": {
           "bgcolor": "white",
           "lakecolor": "white",
           "landcolor": "#E5ECF6",
           "showlakes": true,
           "showland": true,
           "subunitcolor": "white"
          },
          "hoverlabel": {
           "align": "left"
          },
          "hovermode": "closest",
          "mapbox": {
           "style": "light"
          },
          "paper_bgcolor": "white",
          "plot_bgcolor": "#E5ECF6",
          "polar": {
           "angularaxis": {
            "gridcolor": "white",
            "linecolor": "white",
            "ticks": ""
           },
           "bgcolor": "#E5ECF6",
           "radialaxis": {
            "gridcolor": "white",
            "linecolor": "white",
            "ticks": ""
           }
          },
          "scene": {
           "xaxis": {
            "backgroundcolor": "#E5ECF6",
            "gridcolor": "white",
            "gridwidth": 2,
            "linecolor": "white",
            "showbackground": true,
            "ticks": "",
            "zerolinecolor": "white"
           },
           "yaxis": {
            "backgroundcolor": "#E5ECF6",
            "gridcolor": "white",
            "gridwidth": 2,
            "linecolor": "white",
            "showbackground": true,
            "ticks": "",
            "zerolinecolor": "white"
           },
           "zaxis": {
            "backgroundcolor": "#E5ECF6",
            "gridcolor": "white",
            "gridwidth": 2,
            "linecolor": "white",
            "showbackground": true,
            "ticks": "",
            "zerolinecolor": "white"
           }
          },
          "shapedefaults": {
           "line": {
            "color": "#2a3f5f"
           }
          },
          "ternary": {
           "aaxis": {
            "gridcolor": "white",
            "linecolor": "white",
            "ticks": ""
           },
           "baxis": {
            "gridcolor": "white",
            "linecolor": "white",
            "ticks": ""
           },
           "bgcolor": "#E5ECF6",
           "caxis": {
            "gridcolor": "white",
            "linecolor": "white",
            "ticks": ""
           }
          },
          "title": {
           "x": 0.05
          },
          "xaxis": {
           "automargin": true,
           "gridcolor": "white",
           "linecolor": "white",
           "ticks": "",
           "title": {
            "standoff": 15
           },
           "zerolinecolor": "white",
           "zerolinewidth": 2
          },
          "yaxis": {
           "automargin": true,
           "gridcolor": "white",
           "linecolor": "white",
           "ticks": "",
           "title": {
            "standoff": 15
           },
           "zerolinecolor": "white",
           "zerolinewidth": 2
          }
         }
        },
        "title": {
         "text": "Average Price by Qty Ordered for Different Payment Types and Products"
        },
        "xaxis": {
         "anchor": "y",
         "domain": [
          0,
          0.18400000000000002
         ],
         "title": {
          "text": "Qty Ordered"
         }
        },
        "xaxis2": {
         "anchor": "y2",
         "domain": [
          0.20400000000000001,
          0.388
         ],
         "matches": "x",
         "title": {
          "text": "Qty Ordered"
         }
        },
        "xaxis3": {
         "anchor": "y3",
         "domain": [
          0.40800000000000003,
          0.5920000000000001
         ],
         "matches": "x",
         "title": {
          "text": "Qty Ordered"
         }
        },
        "xaxis4": {
         "anchor": "y4",
         "domain": [
          0.6120000000000001,
          0.7960000000000002
         ],
         "matches": "x",
         "title": {
          "text": "Qty Ordered"
         }
        },
        "xaxis5": {
         "anchor": "y5",
         "domain": [
          0.8160000000000001,
          1
         ],
         "matches": "x",
         "title": {
          "text": "Qty Ordered"
         }
        },
        "yaxis": {
         "anchor": "x",
         "domain": [
          0,
          1
         ],
         "title": {
          "text": "Average Price Each"
         }
        },
        "yaxis2": {
         "anchor": "x2",
         "domain": [
          0,
          1
         ],
         "matches": "y",
         "showticklabels": false
        },
        "yaxis3": {
         "anchor": "x3",
         "domain": [
          0,
          1
         ],
         "matches": "y",
         "showticklabels": false
        },
        "yaxis4": {
         "anchor": "x4",
         "domain": [
          0,
          1
         ],
         "matches": "y",
         "showticklabels": false
        },
        "yaxis5": {
         "anchor": "x5",
         "domain": [
          0,
          1
         ],
         "matches": "y",
         "showticklabels": false
        }
       }
      }
     },
     "metadata": {},
     "output_type": "display_data"
    }
   ],
   "source": [
    "# Group data by Product, Payment Type, and Qty Ordered and then compute the average Price Each\n",
    "agg_data = df.groupby(['Product', 'Payment Type', 'Qty Ordered'])['Price Each'].mean().reset_index()\n",
    "agg_data.rename(columns={'Price Each': 'Average_Price_Each'}, inplace=True)\n",
    "\n",
    "fig = px.scatter(agg_data, x='Qty Ordered', y='Average_Price_Each', color='Product', \n",
    "                 facet_col='Payment Type', \n",
    "                 title='Average Price by Qty Ordered for Different Payment Types and Products',\n",
    "                 labels={'Average_Price_Each': 'Average Price Each'})\n",
    "fig.show()\n"
   ]
  },
  {
   "cell_type": "markdown",
   "id": "c5f52126",
   "metadata": {
    "papermill": {
     "duration": 0.013942,
     "end_time": "2023-08-25T16:38:58.452024",
     "exception": false,
     "start_time": "2023-08-25T16:38:58.438082",
     "status": "completed"
    },
    "tags": []
   },
   "source": [
    "## Analyzing Price Discounts by Payment Type and Quantity Ordered\n",
    "\n",
    "In this analysis, we investigated how the payment type used by customers affects the average price they pay for different products, depending on the quantity ordered. The goal was to determine if certain payment types lead to price discounts on average.\n",
    "\n",
    "### Insights\n",
    "\n",
    "The scatter plot with facet columns provides a clear visualization of how different payment types impact the average price customers pay for various products based on the quantity ordered. By examining the plot, it's evident that, on average, the price each is discounted when customers use an \"Account\" as the payment type for all products. The other payment types do not exhibit this consistent trend.\n"
   ]
  },
  {
   "cell_type": "code",
   "execution_count": 95,
   "id": "16e17585",
   "metadata": {
    "execution": {
     "iopub.execute_input": "2023-08-25T16:39:00.291496Z",
     "iopub.status.busy": "2023-08-25T16:39:00.291091Z",
     "iopub.status.idle": "2023-08-25T16:39:01.798939Z",
     "shell.execute_reply": "2023-08-25T16:39:01.797149Z"
    },
    "papermill": {
     "duration": 1.529841,
     "end_time": "2023-08-25T16:39:01.801081",
     "exception": true,
     "start_time": "2023-08-25T16:39:00.271240",
     "status": "failed"
    },
    "tags": []
   },
   "outputs": [
    {
     "data": {
      "application/vnd.plotly.v1+json": {
       "config": {
        "plotlyServerURL": "https://plot.ly"
       },
       "data": [
        {
         "coloraxis": "coloraxis",
         "hovertemplate": "Payment Type: %{x}<br>Accepted Promotional Item: %{y}<br>Profit per Order: %{z}<extra></extra>",
         "name": "0",
         "type": "heatmap",
         "x": [
          "Account",
          "Cash",
          "Check",
          "Credit Card",
          "Debit"
         ],
         "xaxis": "x",
         "y": [
          "Energy Drink",
          "Gloves",
          "Hand Warmer",
          "Hat",
          "Lens Cleaner",
          "No"
         ],
         "yaxis": "y",
         "z": [
          [
           100.05882352941177,
           73.29069767441861,
           132.36363636363637,
           140.94736842105263,
           145.72222222222223
          ],
          [
           114.3913043478261,
           74.5375,
           132.46153846153845,
           154.73076923076923,
           152.94444444444446
          ],
          [
           131,
           78.15384615384616,
           131.66666666666666,
           181.26923076923077,
           156.37037037037038
          ],
          [
           126.72,
           74.453125,
           145.56,
           156.16,
           165.66666666666666
          ],
          [
           110.34782608695652,
           62.41463414634146,
           138.08,
           143.23809523809524,
           150.80645161290323
          ],
          [
           95.65934065934066,
           44.69230769230769,
           107.94117647058823,
           119.50574712643679,
           143.01123595505618
          ]
         ]
        }
       ],
       "layout": {
        "coloraxis": {
         "colorbar": {
          "title": {
           "text": "Profit per Order"
          }
         },
         "colorscale": [
          [
           0,
           "rgb(247,251,255)"
          ],
          [
           0.125,
           "rgb(222,235,247)"
          ],
          [
           0.25,
           "rgb(198,219,239)"
          ],
          [
           0.375,
           "rgb(158,202,225)"
          ],
          [
           0.5,
           "rgb(107,174,214)"
          ],
          [
           0.625,
           "rgb(66,146,198)"
          ],
          [
           0.75,
           "rgb(33,113,181)"
          ],
          [
           0.875,
           "rgb(8,81,156)"
          ],
          [
           1,
           "rgb(8,48,107)"
          ]
         ]
        },
        "template": {
         "data": {
          "bar": [
           {
            "error_x": {
             "color": "#2a3f5f"
            },
            "error_y": {
             "color": "#2a3f5f"
            },
            "marker": {
             "line": {
              "color": "#E5ECF6",
              "width": 0.5
             },
             "pattern": {
              "fillmode": "overlay",
              "size": 10,
              "solidity": 0.2
             }
            },
            "type": "bar"
           }
          ],
          "barpolar": [
           {
            "marker": {
             "line": {
              "color": "#E5ECF6",
              "width": 0.5
             },
             "pattern": {
              "fillmode": "overlay",
              "size": 10,
              "solidity": 0.2
             }
            },
            "type": "barpolar"
           }
          ],
          "carpet": [
           {
            "aaxis": {
             "endlinecolor": "#2a3f5f",
             "gridcolor": "white",
             "linecolor": "white",
             "minorgridcolor": "white",
             "startlinecolor": "#2a3f5f"
            },
            "baxis": {
             "endlinecolor": "#2a3f5f",
             "gridcolor": "white",
             "linecolor": "white",
             "minorgridcolor": "white",
             "startlinecolor": "#2a3f5f"
            },
            "type": "carpet"
           }
          ],
          "choropleth": [
           {
            "colorbar": {
             "outlinewidth": 0,
             "ticks": ""
            },
            "type": "choropleth"
           }
          ],
          "contour": [
           {
            "colorbar": {
             "outlinewidth": 0,
             "ticks": ""
            },
            "colorscale": [
             [
              0,
              "#0d0887"
             ],
             [
              0.1111111111111111,
              "#46039f"
             ],
             [
              0.2222222222222222,
              "#7201a8"
             ],
             [
              0.3333333333333333,
              "#9c179e"
             ],
             [
              0.4444444444444444,
              "#bd3786"
             ],
             [
              0.5555555555555556,
              "#d8576b"
             ],
             [
              0.6666666666666666,
              "#ed7953"
             ],
             [
              0.7777777777777778,
              "#fb9f3a"
             ],
             [
              0.8888888888888888,
              "#fdca26"
             ],
             [
              1,
              "#f0f921"
             ]
            ],
            "type": "contour"
           }
          ],
          "contourcarpet": [
           {
            "colorbar": {
             "outlinewidth": 0,
             "ticks": ""
            },
            "type": "contourcarpet"
           }
          ],
          "heatmap": [
           {
            "colorbar": {
             "outlinewidth": 0,
             "ticks": ""
            },
            "colorscale": [
             [
              0,
              "#0d0887"
             ],
             [
              0.1111111111111111,
              "#46039f"
             ],
             [
              0.2222222222222222,
              "#7201a8"
             ],
             [
              0.3333333333333333,
              "#9c179e"
             ],
             [
              0.4444444444444444,
              "#bd3786"
             ],
             [
              0.5555555555555556,
              "#d8576b"
             ],
             [
              0.6666666666666666,
              "#ed7953"
             ],
             [
              0.7777777777777778,
              "#fb9f3a"
             ],
             [
              0.8888888888888888,
              "#fdca26"
             ],
             [
              1,
              "#f0f921"
             ]
            ],
            "type": "heatmap"
           }
          ],
          "heatmapgl": [
           {
            "colorbar": {
             "outlinewidth": 0,
             "ticks": ""
            },
            "colorscale": [
             [
              0,
              "#0d0887"
             ],
             [
              0.1111111111111111,
              "#46039f"
             ],
             [
              0.2222222222222222,
              "#7201a8"
             ],
             [
              0.3333333333333333,
              "#9c179e"
             ],
             [
              0.4444444444444444,
              "#bd3786"
             ],
             [
              0.5555555555555556,
              "#d8576b"
             ],
             [
              0.6666666666666666,
              "#ed7953"
             ],
             [
              0.7777777777777778,
              "#fb9f3a"
             ],
             [
              0.8888888888888888,
              "#fdca26"
             ],
             [
              1,
              "#f0f921"
             ]
            ],
            "type": "heatmapgl"
           }
          ],
          "histogram": [
           {
            "marker": {
             "pattern": {
              "fillmode": "overlay",
              "size": 10,
              "solidity": 0.2
             }
            },
            "type": "histogram"
           }
          ],
          "histogram2d": [
           {
            "colorbar": {
             "outlinewidth": 0,
             "ticks": ""
            },
            "colorscale": [
             [
              0,
              "#0d0887"
             ],
             [
              0.1111111111111111,
              "#46039f"
             ],
             [
              0.2222222222222222,
              "#7201a8"
             ],
             [
              0.3333333333333333,
              "#9c179e"
             ],
             [
              0.4444444444444444,
              "#bd3786"
             ],
             [
              0.5555555555555556,
              "#d8576b"
             ],
             [
              0.6666666666666666,
              "#ed7953"
             ],
             [
              0.7777777777777778,
              "#fb9f3a"
             ],
             [
              0.8888888888888888,
              "#fdca26"
             ],
             [
              1,
              "#f0f921"
             ]
            ],
            "type": "histogram2d"
           }
          ],
          "histogram2dcontour": [
           {
            "colorbar": {
             "outlinewidth": 0,
             "ticks": ""
            },
            "colorscale": [
             [
              0,
              "#0d0887"
             ],
             [
              0.1111111111111111,
              "#46039f"
             ],
             [
              0.2222222222222222,
              "#7201a8"
             ],
             [
              0.3333333333333333,
              "#9c179e"
             ],
             [
              0.4444444444444444,
              "#bd3786"
             ],
             [
              0.5555555555555556,
              "#d8576b"
             ],
             [
              0.6666666666666666,
              "#ed7953"
             ],
             [
              0.7777777777777778,
              "#fb9f3a"
             ],
             [
              0.8888888888888888,
              "#fdca26"
             ],
             [
              1,
              "#f0f921"
             ]
            ],
            "type": "histogram2dcontour"
           }
          ],
          "mesh3d": [
           {
            "colorbar": {
             "outlinewidth": 0,
             "ticks": ""
            },
            "type": "mesh3d"
           }
          ],
          "parcoords": [
           {
            "line": {
             "colorbar": {
              "outlinewidth": 0,
              "ticks": ""
             }
            },
            "type": "parcoords"
           }
          ],
          "pie": [
           {
            "automargin": true,
            "type": "pie"
           }
          ],
          "scatter": [
           {
            "marker": {
             "colorbar": {
              "outlinewidth": 0,
              "ticks": ""
             }
            },
            "type": "scatter"
           }
          ],
          "scatter3d": [
           {
            "line": {
             "colorbar": {
              "outlinewidth": 0,
              "ticks": ""
             }
            },
            "marker": {
             "colorbar": {
              "outlinewidth": 0,
              "ticks": ""
             }
            },
            "type": "scatter3d"
           }
          ],
          "scattercarpet": [
           {
            "marker": {
             "colorbar": {
              "outlinewidth": 0,
              "ticks": ""
             }
            },
            "type": "scattercarpet"
           }
          ],
          "scattergeo": [
           {
            "marker": {
             "colorbar": {
              "outlinewidth": 0,
              "ticks": ""
             }
            },
            "type": "scattergeo"
           }
          ],
          "scattergl": [
           {
            "marker": {
             "colorbar": {
              "outlinewidth": 0,
              "ticks": ""
             }
            },
            "type": "scattergl"
           }
          ],
          "scattermapbox": [
           {
            "marker": {
             "colorbar": {
              "outlinewidth": 0,
              "ticks": ""
             }
            },
            "type": "scattermapbox"
           }
          ],
          "scatterpolar": [
           {
            "marker": {
             "colorbar": {
              "outlinewidth": 0,
              "ticks": ""
             }
            },
            "type": "scatterpolar"
           }
          ],
          "scatterpolargl": [
           {
            "marker": {
             "colorbar": {
              "outlinewidth": 0,
              "ticks": ""
             }
            },
            "type": "scatterpolargl"
           }
          ],
          "scatterternary": [
           {
            "marker": {
             "colorbar": {
              "outlinewidth": 0,
              "ticks": ""
             }
            },
            "type": "scatterternary"
           }
          ],
          "surface": [
           {
            "colorbar": {
             "outlinewidth": 0,
             "ticks": ""
            },
            "colorscale": [
             [
              0,
              "#0d0887"
             ],
             [
              0.1111111111111111,
              "#46039f"
             ],
             [
              0.2222222222222222,
              "#7201a8"
             ],
             [
              0.3333333333333333,
              "#9c179e"
             ],
             [
              0.4444444444444444,
              "#bd3786"
             ],
             [
              0.5555555555555556,
              "#d8576b"
             ],
             [
              0.6666666666666666,
              "#ed7953"
             ],
             [
              0.7777777777777778,
              "#fb9f3a"
             ],
             [
              0.8888888888888888,
              "#fdca26"
             ],
             [
              1,
              "#f0f921"
             ]
            ],
            "type": "surface"
           }
          ],
          "table": [
           {
            "cells": {
             "fill": {
              "color": "#EBF0F8"
             },
             "line": {
              "color": "white"
             }
            },
            "header": {
             "fill": {
              "color": "#C8D4E3"
             },
             "line": {
              "color": "white"
             }
            },
            "type": "table"
           }
          ]
         },
         "layout": {
          "annotationdefaults": {
           "arrowcolor": "#2a3f5f",
           "arrowhead": 0,
           "arrowwidth": 1
          },
          "autotypenumbers": "strict",
          "coloraxis": {
           "colorbar": {
            "outlinewidth": 0,
            "ticks": ""
           }
          },
          "colorscale": {
           "diverging": [
            [
             0,
             "#8e0152"
            ],
            [
             0.1,
             "#c51b7d"
            ],
            [
             0.2,
             "#de77ae"
            ],
            [
             0.3,
             "#f1b6da"
            ],
            [
             0.4,
             "#fde0ef"
            ],
            [
             0.5,
             "#f7f7f7"
            ],
            [
             0.6,
             "#e6f5d0"
            ],
            [
             0.7,
             "#b8e186"
            ],
            [
             0.8,
             "#7fbc41"
            ],
            [
             0.9,
             "#4d9221"
            ],
            [
             1,
             "#276419"
            ]
           ],
           "sequential": [
            [
             0,
             "#0d0887"
            ],
            [
             0.1111111111111111,
             "#46039f"
            ],
            [
             0.2222222222222222,
             "#7201a8"
            ],
            [
             0.3333333333333333,
             "#9c179e"
            ],
            [
             0.4444444444444444,
             "#bd3786"
            ],
            [
             0.5555555555555556,
             "#d8576b"
            ],
            [
             0.6666666666666666,
             "#ed7953"
            ],
            [
             0.7777777777777778,
             "#fb9f3a"
            ],
            [
             0.8888888888888888,
             "#fdca26"
            ],
            [
             1,
             "#f0f921"
            ]
           ],
           "sequentialminus": [
            [
             0,
             "#0d0887"
            ],
            [
             0.1111111111111111,
             "#46039f"
            ],
            [
             0.2222222222222222,
             "#7201a8"
            ],
            [
             0.3333333333333333,
             "#9c179e"
            ],
            [
             0.4444444444444444,
             "#bd3786"
            ],
            [
             0.5555555555555556,
             "#d8576b"
            ],
            [
             0.6666666666666666,
             "#ed7953"
            ],
            [
             0.7777777777777778,
             "#fb9f3a"
            ],
            [
             0.8888888888888888,
             "#fdca26"
            ],
            [
             1,
             "#f0f921"
            ]
           ]
          },
          "colorway": [
           "#636efa",
           "#EF553B",
           "#00cc96",
           "#ab63fa",
           "#FFA15A",
           "#19d3f3",
           "#FF6692",
           "#B6E880",
           "#FF97FF",
           "#FECB52"
          ],
          "font": {
           "color": "#2a3f5f"
          },
          "geo": {
           "bgcolor": "white",
           "lakecolor": "white",
           "landcolor": "#E5ECF6",
           "showlakes": true,
           "showland": true,
           "subunitcolor": "white"
          },
          "hoverlabel": {
           "align": "left"
          },
          "hovermode": "closest",
          "mapbox": {
           "style": "light"
          },
          "paper_bgcolor": "white",
          "plot_bgcolor": "#E5ECF6",
          "polar": {
           "angularaxis": {
            "gridcolor": "white",
            "linecolor": "white",
            "ticks": ""
           },
           "bgcolor": "#E5ECF6",
           "radialaxis": {
            "gridcolor": "white",
            "linecolor": "white",
            "ticks": ""
           }
          },
          "scene": {
           "xaxis": {
            "backgroundcolor": "#E5ECF6",
            "gridcolor": "white",
            "gridwidth": 2,
            "linecolor": "white",
            "showbackground": true,
            "ticks": "",
            "zerolinecolor": "white"
           },
           "yaxis": {
            "backgroundcolor": "#E5ECF6",
            "gridcolor": "white",
            "gridwidth": 2,
            "linecolor": "white",
            "showbackground": true,
            "ticks": "",
            "zerolinecolor": "white"
           },
           "zaxis": {
            "backgroundcolor": "#E5ECF6",
            "gridcolor": "white",
            "gridwidth": 2,
            "linecolor": "white",
            "showbackground": true,
            "ticks": "",
            "zerolinecolor": "white"
           }
          },
          "shapedefaults": {
           "line": {
            "color": "#2a3f5f"
           }
          },
          "ternary": {
           "aaxis": {
            "gridcolor": "white",
            "linecolor": "white",
            "ticks": ""
           },
           "baxis": {
            "gridcolor": "white",
            "linecolor": "white",
            "ticks": ""
           },
           "bgcolor": "#E5ECF6",
           "caxis": {
            "gridcolor": "white",
            "linecolor": "white",
            "ticks": ""
           }
          },
          "title": {
           "x": 0.05
          },
          "xaxis": {
           "automargin": true,
           "gridcolor": "white",
           "linecolor": "white",
           "ticks": "",
           "title": {
            "standoff": 15
           },
           "zerolinecolor": "white",
           "zerolinewidth": 2
          },
          "yaxis": {
           "automargin": true,
           "gridcolor": "white",
           "linecolor": "white",
           "ticks": "",
           "title": {
            "standoff": 15
           },
           "zerolinecolor": "white",
           "zerolinewidth": 2
          }
         }
        },
        "title": {
         "text": "Actual Profit per Order by Payment Type and Accepted Promotional Item"
        },
        "xaxis": {
         "anchor": "y",
         "constrain": "domain",
         "domain": [
          0,
          1
         ],
         "scaleanchor": "y",
         "title": {
          "text": "Payment Type"
         }
        },
        "yaxis": {
         "anchor": "x",
         "autorange": "reversed",
         "constrain": "domain",
         "domain": [
          0,
          1
         ],
         "title": {
          "text": "Accepted Promotional Item"
         }
        }
       }
      }
     },
     "metadata": {},
     "output_type": "display_data"
    }
   ],
   "source": [
    "grouped_df = df.groupby(['Payment Type', 'Accepted Promotional Item']).agg(Count=('Qty Ordered', 'size'), Total_Order_Qty=('Qty Ordered', 'sum'),Total_Actual_Profit=('Actual Profit', 'sum')).reset_index()\n",
    "\n",
    "# Calculate Profit per Order\n",
    "grouped_df['Profit_per_Order'] = grouped_df['Total_Actual_Profit'] / grouped_df['Count']\n",
    "\n",
    "fig = px.imshow(grouped_df.pivot(index='Accepted Promotional Item', columns='Payment Type', values='Profit_per_Order'),\n",
    "                title='Actual Profit per Order by Payment Type and Accepted Promotional Item',\n",
    "                labels=dict(x=\"Payment Type\", y=\"Accepted Promotional Item\", color=\"Profit per Order\"),\n",
    "                color_continuous_scale=\"Blues\")\n",
    "\n",
    "# Improving the colorbar title for clarity\n",
    "fig.update_layout(coloraxis_colorbar_title='Profit per Order')\n",
    "\n",
    "fig.show()\n"
   ]
  },
  {
   "cell_type": "markdown",
   "id": "061d7e71",
   "metadata": {},
   "source": [
    "# Analysis of Profitability and Promotional Strategies\n",
    "\n",
    "### Highest Profitability Combinations\n",
    "\n",
    "- Customers who pay with a \"Credit Card\" and accept the \"Hand Warmer\" promotional item generate the highest average profit per order.\n",
    "- Using \"Debit\" for payment and accepting the \"Hat\" promotional item results in the second-highest profit per order.\n",
    "\n",
    "### Least Profitable Combinations\n",
    "\n",
    "- The combination of paying in \"Cash\" and not accepting any promotional item is the least profitable. This could suggest that promotional items influence the purchase value or that cash-paying customers have specific spending patterns.\n",
    "\n",
    "### Promotional Item Effect\n",
    "\n",
    "- Across most payment types, accepting a promotional item tends to result in a higher average profit per order. This observation could indicate that promotional items positively influence purchasing behavior, perhaps incentivizing more substantial purchases or upsells.\n",
    "\n",
    "### Payment Type Observations\n",
    "\n",
    "- Payments made using \"Credit Card\" and \"Debit\" generally lead to higher average profits compared to those made with \"Cash\", especially when paired with a promotional item. This pattern might suggest that the convenience or perception of electronic payment methods encourages larger transactions.\n",
    "\n",
    "- Transactions paid in \"Cash\" seem to yield lower profits on average, which might reflect the behavior of cash-paying customers being more budget-conscious.\n",
    "\n",
    "### Consistency in Promotional Acceptance\n",
    "\n",
    "- Across most payment types, the \"Hat\" and \"Hand Warmer\" promotional items consistently lead to higher profits per order. These items might resonate well with customers, encouraging more purchases.\n",
    "\n",
    "\n",
    "### Effect of Payment Types\n",
    "\n",
    "- When examining different payment methods, customers using \"Credit Card\" or \"Debit\" tend to yield a higher profit per order. This trend might suggests that these customers are more open to making larger purchases or that electronic payment methods indirectly promote more substantial transactions.\n",
    "\n"
   ]
  },
  {
   "cell_type": "code",
   "execution_count": 96,
   "id": "6daeb645",
   "metadata": {},
   "outputs": [
    {
     "data": {
      "image/png": "[encoded data removed]",
      "text/plain": [
       "<Figure size 720x432 with 1 Axes>"
      ]
     },
     "metadata": {
      "needs_background": "light"
     },
     "output_type": "display_data"
    }
   ],
   "source": [
    "# Group by 'Payment Type' and sum the 'Qty Ordered'\n",
    "grouped = df.groupby('Payment Type')['Qty Ordered'].count().reset_index()\n",
    "\n",
    "# Plotting\n",
    "plt.figure(figsize=(10,6))\n",
    "plt.bar(grouped['Payment Type'], grouped['Qty Ordered'], color=['green'])\n",
    "plt.xlabel('Payment Type')\n",
    "plt.ylabel('Count of Customers')\n",
    "plt.title('Count of Customer by Payment Type')\n",
    "plt.tight_layout()\n",
    "plt.show()"
   ]
  },
  {
   "cell_type": "markdown",
   "id": "af886d03",
   "metadata": {},
   "source": [
    "## End All-Conclusion\n",
    "\n",
    "**My recommendation** is the following:\n",
    "\n",
    "1. **Re-evaluate the bulk discounts:** Set a cap on the discount offered per item ordered. Beyond a certain level of discounting, the transaction becomes unprofitable.\n",
    "\n",
    "2. **Re-assess the discounts for the \"Account\" payment type:** This payment type isn't driving the same level of profitability as credit and debit cards. The strategy of incentivizing customers to use the \"Account\" payment method might be flawed. \n",
    "\n",
    "3. **Rethink the promotional strategy:** The current approach for the account payment type isn't yielding desirable profit margins. I suggest two potential strategies:\n",
    "   - **Loyalty Programs:** Instead of discounting based on the payment method, introduce a loyalty program based on the frequency of purchases. This can encourage repeat business without sacrificing profitability on each transaction.\n",
    "   - **Membership Fees:** Consider introducing a membership fee for the account category to boost the revenue stream.\n",
    "\n",
    "By implementing these strategies, we aim to increase profitability without sacrificing customer loyalty.\n"
   ]
  },
  {
   "cell_type": "code",
   "execution_count": null,
   "id": "3ca533a2",
   "metadata": {},
   "outputs": [],
   "source": []
  }
 ],
 "metadata": {
  "kernelspec": {
   "display_name": "Python 3",
   "language": "python",
   "name": "python3"
  },
  "language_info": {
   "codemirror_mode": {
    "name": "ipython",
    "version": 3
   },
   "file_extension": ".py",
   "mimetype": "text/x-python",
   "name": "python",
   "nbconvert_exporter": "python",
   "pygments_lexer": "ipython3",
   "version": "3.9.12"
  },
  "papermill": {
   "default_parameters": {},
   "duration": 25.303052,
   "end_time": "2023-08-25T16:39:03.246236",
   "environment_variables": {},
   "exception": true,
   "input_path": "__notebook__.ipynb",
   "output_path": "__notebook__.ipynb",
   "parameters": {},
   "start_time": "2023-08-25T16:38:37.943184",
   "version": "2.4.0"
  }
 },
 "nbformat": 4,
 "nbformat_minor": 5
}
